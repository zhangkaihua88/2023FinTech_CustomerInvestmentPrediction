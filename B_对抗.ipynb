{
 "cells": [
  {
   "cell_type": "code",
   "execution_count": 1,
   "id": "5d3c31cb-8c2e-43e0-bdce-7aa86e851df2",
   "metadata": {},
   "outputs": [],
   "source": [
    "import numpy as np\n",
    "import pandas as pd\n",
    "from os import path as osp\n",
    "import os\n",
    "from matplotlib import pyplot as plt\n",
    "import lightgbm as lgb\n",
    "\n",
    "from tqdm.notebook import tqdm\n",
    "from collections import Counter\n",
    "from sklearn.model_selection import StratifiedKFold\n",
    "from sklearn.metrics import roc_auc_score, f1_score, precision_score, recall_score, fbeta_score, mean_absolute_percentage_error\n",
    "import utils\n",
    "\n",
    "import pickle\n",
    "def save_obj(obj, name):\n",
    "    with open(name + '.pickle', 'wb') as f:\n",
    "        pickle.dump(obj, f, pickle.HIGHEST_PROTOCOL)\n",
    "def load_obj(name ):\n",
    "    with open(name + '.pickle', 'rb') as f:\n",
    "        return pickle.load(f)"
   ]
  },
  {
   "cell_type": "code",
   "execution_count": 2,
   "id": "8d9b7ca2-b30b-41e7-831f-f9cdd56404c6",
   "metadata": {},
   "outputs": [],
   "source": [
    "import warnings\n",
    "\n",
    "# 禁用FutureWarning警告\n",
    "warnings.simplefilter(action='ignore', category=FutureWarning)"
   ]
  },
  {
   "cell_type": "code",
   "execution_count": 3,
   "id": "348be3ad-341f-4641-8be9-b8bb38aa25d1",
   "metadata": {},
   "outputs": [],
   "source": [
    "DATA_PATH = '/data'\n",
    "MODEL_PAHT = '/work/model'\n",
    "SEED = 2222\n",
    "if not os.path.exists(MODEL_PAHT):\n",
    "    os.mkdir(MODEL_PAHT)\n",
    "    \n",
    "data_type='train'"
   ]
  },
  {
   "cell_type": "code",
   "execution_count": 4,
   "id": "4f746c12-3ba9-4c27-80e6-63d509b01c99",
   "metadata": {},
   "outputs": [],
   "source": [
    "def q1(x):\n",
    "    return x.quantile(0.1)\n",
    "def q2(x):\n",
    "    return x.quantile(0.25)\n",
    "def q3(x):\n",
    "    return x.quantile(0.7)\n",
    "def q4(x):\n",
    "    return x.quantile(0.9)\n",
    "def mode_max(x):\n",
    "    return x.mode().max()\n",
    "def mode_min(x):\n",
    "    return x.mode().min()\n",
    "def mode_mean(x):\n",
    "    return x.mode().mean()\n",
    "def mode_std(x):\n",
    "    return x.mode().std()\n",
    "def mode_len(x):\n",
    "    return x.mode().shape[0]\n",
    "def mode_times(x):\n",
    "    return x.value_counts().iloc[0]"
   ]
  },
  {
   "cell_type": "code",
   "execution_count": null,
   "id": "c4df7843-3ddb-4655-839c-f7abda817070",
   "metadata": {},
   "outputs": [],
   "source": []
  },
  {
   "cell_type": "code",
   "execution_count": 5,
   "id": "404f669b-d579-457c-b3e6-7e7cc6c87e69",
   "metadata": {},
   "outputs": [],
   "source": [
    "def get_data(data_type='train'):\n",
    "    train_base = pd.read_csv(osp.join(DATA_PATH, f'{data_type}_base.csv'))\n",
    "    train_base = train_base.sort_values(['cust_wid']).reset_index(drop=True)\n",
    "    train_view = pd.read_csv(osp.join(DATA_PATH, f'{data_type}_view.csv'), encoding='gbk')\n",
    "    train_trx = pd.read_csv(osp.join(DATA_PATH, f'{data_type}_trx.csv'))\n",
    "\n",
    "    # deal base gdr_cd\n",
    "    train_base['gdr_cd'] = train_base['gdr_cd'].map({'M':1, 'F':2})\n",
    "    train_base['gdr_cd'] = train_base['gdr_cd'].fillna(0)\n",
    "\n",
    "    # deal base cty_cd\n",
    "    train_base['cty_cd'] = train_base['cty_cd'].str.slice(stop=2)\n",
    "    train_base.cty_cd = train_base.cty_cd.fillna('NAN')\n",
    "    cty_map = ['C', '44', '11', 'A', '31', '32', '37', '21', '42', '61', 'B', '33', '50', '12', '35', '36', '51', '43', '62', '53', '34', '23', '65', '41', 'NAN']\n",
    "    cty_map = dict(zip(cty_map, range(1,len(cty_map)+1)))\n",
    "    train_base['cty_cd'] = train_base['cty_cd'].map(cty_map).fillna(0)\n",
    "\n",
    "    # idx = train_view.acs_tm.str.contains('下午')\n",
    "    train_view.acs_tm = train_view.acs_tm.str.rstrip(':').str.replace('上午|下午', '', regex=True).str.replace('1492', '2022')\n",
    "    train_view.acs_tm = pd.to_datetime(train_view.acs_tm)\n",
    "    train_view['day'] = train_view.acs_tm.dt.day\n",
    "\n",
    "    train_trx.trx_tm = train_trx.trx_tm.str.replace('1492', '2022')\n",
    "    train_trx.trx_tm = pd.to_datetime(train_trx.trx_tm)\n",
    "    train_trx['day'] = train_trx.trx_tm.dt.day\n",
    "\n",
    "    train_view['day_diff'] = train_view['day'].max() - train_view['day']\n",
    "    train_trx['day_diff'] = train_trx['day'].max() - train_trx['day']\n",
    "\n",
    "    if data_type=='train':\n",
    "        train_view['day'] -= 4\n",
    "        train_trx['day'] -= 4\n",
    "    elif data_type=='testa':\n",
    "        train_view['day'] -= 3\n",
    "        train_trx['day'] -= 3\n",
    "    elif data_type=='testb':\n",
    "        train_view['day'] -= 4\n",
    "        train_trx['day'] -= 4\n",
    "\n",
    "    print(train_trx['day'].max(), train_trx['day'].min())\n",
    "\n",
    "    train_view['ntimes'] = train_view['day']//14\n",
    "    train_trx['ntimes'] = train_trx['day']//14\n",
    "    train_view['day'] %= 14\n",
    "    train_trx['day'] %= 14\n",
    "\n",
    "#     train_idx = pd.Index(train_base['cust_wid'], name='cust_wid')\n",
    "#     tmp_idx = train_view['acs_tm'].isna()\n",
    "#     train_view_nan = pd.DataFrame({'cust_wid': train_view[tmp_idx]['cust_wid'].unique(), 'view_nan': 1}).set_index('cust_wid').reindex(train_idx).fillna(0).reset_index(drop=True)\n",
    "\n",
    "#     tmp_idx = train_trx['trx_tm'].isna()\n",
    "#     train_trx_nan = pd.DataFrame({'cust_wid': train_trx[tmp_idx]['cust_wid'].unique(), 'trx_nan': 1}).set_index('cust_wid').reindex(train_idx).fillna(0).reset_index(drop=True)\n",
    "\n",
    "#     train_base = pd.concat([train_base, train_view_nan, train_trx_nan], axis=1)\n",
    "\n",
    "\n",
    "\n",
    "    train_view = train_view.query('day>=0').reset_index(drop=True)\n",
    "    train_trx = train_trx.query('day>=0').reset_index(drop=True)\n",
    "\n",
    "\n",
    "    train_view['day'] = train_view['day'].astype('int')\n",
    "    train_trx['day'] = train_trx['day'].astype('int')\n",
    "\n",
    "    train_view = train_view.sort_values(['cust_wid','acs_tm']).reset_index(drop=True)\n",
    "    train_trx = train_trx.sort_values(['cust_wid','trx_tm']).reset_index(drop=True)\n",
    "\n",
    "    page_id_enc = load_obj(osp.join(MODEL_PAHT, 'page_id_enc'))\n",
    "    trx_id_enc = load_obj(osp.join(MODEL_PAHT, 'trx_id_enc'))\n",
    "\n",
    "    train_view['page_enc'] = train_view['page_id'].map(page_id_enc)\n",
    "    train_view['page_enc'] = train_view['page_enc'].fillna(page_id_enc['NAN'])\n",
    "    train_trx['trx_enc'] = train_trx['trx_cd'].map(trx_id_enc)\n",
    "\n",
    "    train_view['acs_tm_diff'] = train_view.groupby('cust_wid')['acs_tm'].diff().dt.total_seconds()\n",
    "    train_trx['trx_tm_diff'] = train_trx.groupby('cust_wid')['trx_tm'].diff().dt.total_seconds()\n",
    "    train_view['daytime'] = train_view['acs_tm'].dt.time.apply(lambda x: x.hour*3600 + x.minute*60 + x.second)\n",
    "    train_trx['daytime'] = train_trx['trx_tm'].dt.time.apply(lambda x: x.hour*3600 + x.minute*60 + x.second)\n",
    "    train_trx['flag'] = (train_trx['trx_amt'] >0).astype('int')\n",
    "\n",
    "    train_idx = pd.Index(train_base['cust_wid'], name='cust_wid')\n",
    "\n",
    "    view_agg_func = {\n",
    "        'day':['mean', 'min', 'max', 'std', np.ptp, 'nunique'],\n",
    "        'page_id':['count', 'nunique'], \n",
    "        'acs_tm_diff':['mean', 'min', 'max', 'std', 'median', 'sum'], \n",
    "        'daytime':['mean', 'min', 'max', 'std', np.ptp],\n",
    "        'page_enc': [\n",
    "            'mean', 'min', 'max', 'std', 'median', 'sum', \n",
    "            np.ptp, \"sem\", \"mad\", \"skew\", pd.Series.kurtosis, \n",
    "            q1, q2, q3, q4, 'last',\n",
    "            # mode_max, mode_min, mode_mean, mode_std, mode_len, mode_times\n",
    "        ],\n",
    "        'day_diff': ['min'],\n",
    "    }\n",
    "    train_view_c = train_view.groupby('cust_wid').agg(view_agg_func).reindex(train_idx).reset_index(drop=True)\n",
    "    train_view_c.columns = [f'vie_{item[0]}_{item[1]}' if item[0] not in ['cust_wid'] else item[0] for item in train_view_c.columns]\n",
    "    train_base = pd.concat([train_base, train_view_c], axis=1)\n",
    "\n",
    "    #     train_view_cn1 = train_view.query('ntimes==1').groupby('cust_wid').agg(view_agg_func).reindex(train_idx).reset_index(drop=True)\n",
    "    #     train_view_cn1.columns = [f'vie_d_{item[0]}_{item[1]}' if item[0] not in ['cust_wid'] else item[0] for item in train_view_cn1.columns]\n",
    "\n",
    "    #     train_view_cn0 = train_view.query('ntimes==0').groupby('cust_wid').agg(view_agg_func).reindex(train_idx).reset_index(drop=True)\n",
    "    #     train_view_cn0.columns = [f'vie_d_{item[0]}_{item[1]}' if item[0] not in ['cust_wid'] else item[0] for item in train_view_cn0.columns]\n",
    "\n",
    "    #     train_view_c = train_view_cn1-train_view_cn0\n",
    "    #     train_base = pd.concat([train_base, train_view_c], axis=1)\n",
    "\n",
    "    trx_agg_func = {\n",
    "        'day':['mean', 'min', 'max', 'std', np.ptp, 'nunique'],\n",
    "        'trx_cd':['count', 'nunique'], \n",
    "        'trx_tm_diff':['mean', 'min', 'max', 'std', 'median', 'sum'], \n",
    "        'daytime':['mean', 'min', 'max', 'std', np.ptp], \n",
    "        'trx_amt':['mean', 'min', 'max', 'std', 'median', 'sum', np.ptp, 'last'],\n",
    "        'trx_enc': ['mean', 'min', 'max', 'std', 'median', 'sum', np.ptp, 'last'],\n",
    "        'day_diff': ['min'],\n",
    "    }\n",
    "    train_trx_c = train_trx.groupby('cust_wid').agg(trx_agg_func).reindex(train_idx).reset_index(drop=True)\n",
    "    train_trx_c.columns = [f'trx_{item[0]}_{item[1]}' if item[0] not in ['cust_wid'] else item[0] for item in train_trx_c.columns]\n",
    "    train_base = pd.concat([train_base, train_trx_c], axis=1)\n",
    "\n",
    "    #     train_trx_c = train_trx.query('flag==1').groupby('cust_wid').agg(trx_agg_func).reindex(train_idx).reset_index(drop=True)\n",
    "    #     train_trx_c.columns = [f'trx_1_{item[0]}_{item[1]}' if item[0] not in ['cust_wid'] else item[0] for item in train_trx_c.columns]\n",
    "    #     train_base = pd.concat([train_base, train_trx_c], axis=1)\n",
    "\n",
    "    #     train_trx_c = train_trx.query('flag==0').groupby('cust_wid').agg(trx_agg_func).reindex(train_idx).reset_index(drop=True)\n",
    "    #     train_trx_c.columns = [f'trx_0_{item[0]}_{item[1]}' if item[0] not in ['cust_wid'] else item[0] for item in train_trx_c.columns]\n",
    "    #     train_base = pd.concat([train_base, train_trx_c], axis=1)\n",
    "\n",
    "    train_view['group'] = (train_view['acs_tm_diff']>5*60).cumsum()\n",
    "    train_view['group'] -= train_view['cust_wid'].map(train_view.groupby('cust_wid').agg({'group':'min'}).to_dict()['group'])\n",
    "    train_reg_base = pd.DataFrame()\n",
    "\n",
    "    train_view_group = train_view.groupby(['cust_wid', 'group']).agg({'page_enc': ['mean', 'min', 'max', 'std'], 'page_id':['count', 'nunique'], 'daytime':['mean',]}).reset_index()\n",
    "    train_view_group.columns = [f'{item[0]}_{item[1]}' if item[0] not in ['cust_wid', 'group'] else item[0] for item in train_view_group.columns]\n",
    "    train_view_group = train_view_group.groupby(['cust_wid']).agg({\n",
    "        'group': ['max'],\n",
    "        'page_enc_mean': ['mean', 'min', 'max', 'std'],\n",
    "        'page_enc_min': ['mean', 'min', 'max', 'std'],\n",
    "        'page_enc_max': ['mean', 'min', 'max', 'std'],\n",
    "        'page_enc_std': ['mean', 'min', 'max', 'std'],\n",
    "        'page_id_count': ['mean', 'min', 'max', 'std'],\n",
    "        'page_id_nunique': ['mean', 'min', 'max', 'std'],\n",
    "        'daytime_mean': ['mean', 'min', 'max', 'std'],\n",
    "    }).reindex(train_idx).reset_index(drop=True)\n",
    "    train_view_group.columns = [f'vie_gop_{item[0]}_{item[1]}' if item[0] not in ['cust_wid'] else item[0] for item in train_view_group.columns]\n",
    "    train_reg_base = pd.concat([train_reg_base,train_view_group], axis=1)\n",
    "    \n",
    "    \n",
    "    train_idx = pd.MultiIndex.from_product([train_base['cust_wid'], range(14)], names=['cust_wid', 'day'])\n",
    "    train_view_cust = train_view.groupby(['cust_wid', 'day'])['page_id'].agg(['count', 'nunique']).reset_index()\n",
    "    train_trx_cust = train_trx.groupby(['cust_wid', 'day'])[['trx_cd', 'trx_amt']].agg({'trx_cd':['count', 'nunique'], 'trx_amt':['min', 'max', 'mean', 'std']}).reset_index()\n",
    "    train_trx_cust.columns = [f'{item[0]}_{item[1]}' if item[0] in ['trx_cd', 'trx_amt'] else item[0] for item in train_trx_cust.columns]\n",
    "\n",
    "    train_view_cust = train_view_cust.set_index(['cust_wid','day']).reindex(train_idx).reset_index().sort_values(['cust_wid','day']).reset_index(drop=True)\n",
    "    train_trx_cust = train_trx_cust.set_index(['cust_wid','day']).reindex(train_idx).reset_index().sort_values(['cust_wid','day']).reset_index(drop=True)\n",
    "\n",
    "    train_view_cust = train_view_cust[[item for item in train_view_cust.columns if item not in ['cust_wid','day']]]\n",
    "    train_view_cust_cols = train_view_cust.columns\n",
    "    train_view_cust = train_view_cust.values.reshape(train_base['cust_wid'].shape[0], 14*len(train_view_cust_cols))\n",
    "    train_view_cust = pd.DataFrame(train_view_cust, columns=[f\"view_cust_{item}_{day}\" for day in range(14) for item in train_view_cust_cols])\n",
    "\n",
    "    train_trx_cust = train_trx_cust[[item for item in train_trx_cust.columns if item not in ['cust_wid','day']]]\n",
    "    train_trx_cust_cols = train_trx_cust.columns\n",
    "    train_trx_cust = train_trx_cust.values.reshape(train_base['cust_wid'].shape[0], 14*len(train_trx_cust_cols))\n",
    "    train_trx_cust = pd.DataFrame(train_trx_cust, columns=[f\"trx_cust_{item}_{day}\" for day in range(14) for item in train_trx_cust_cols])\n",
    "    train_reg_base = pd.concat([train_reg_base, train_view_cust, train_trx_cust], axis=1)\n",
    "\n",
    "    return train_base, train_reg_base"
   ]
  },
  {
   "cell_type": "code",
   "execution_count": 6,
   "id": "1cb222ec-16b3-400e-b20b-41e5c1a54588",
   "metadata": {},
   "outputs": [],
   "source": [
    "# train_view_c = train_view.groupby(['cust_wid', 'day']).agg(view_agg_func)"
   ]
  },
  {
   "cell_type": "code",
   "execution_count": 7,
   "id": "dd99774b-115d-4818-8b28-a4f955d32bf7",
   "metadata": {},
   "outputs": [],
   "source": [
    "# 众数"
   ]
  },
  {
   "cell_type": "code",
   "execution_count": null,
   "id": "60916458-da7e-41c6-a2de-15e523d18716",
   "metadata": {},
   "outputs": [],
   "source": []
  },
  {
   "cell_type": "code",
   "execution_count": 8,
   "id": "eb7b2792-0a9f-438f-b30c-08514eade7aa",
   "metadata": {},
   "outputs": [
    {
     "name": "stdout",
     "output_type": "stream",
     "text": [
      "27.0 -3.0\n",
      "27.0 -3.0\n"
     ]
    }
   ],
   "source": [
    "train_base, train_reg_base = get_data(data_type='train')\n",
    "# testA_base, testA_reg_base = get_data(data_type='testa')\n",
    "testB_base, testB_reg_base = get_data(data_type='testb')"
   ]
  },
  {
   "cell_type": "code",
   "execution_count": 9,
   "id": "3c219a90-9f8d-44b9-9c43-bb8887645b6d",
   "metadata": {},
   "outputs": [],
   "source": [
    "train_base['label'] = 0\n",
    "testB_base['label'] = 1\n"
   ]
  },
  {
   "cell_type": "code",
   "execution_count": 10,
   "id": "cc6fa778-0d60-4476-b439-59ef77cf8c14",
   "metadata": {},
   "outputs": [],
   "source": [
    "data = pd.concat([train_base, testB_base],axis=0)"
   ]
  },
  {
   "cell_type": "code",
   "execution_count": 11,
   "id": "bf6c9767-428a-4a5d-9a56-c964251ec209",
   "metadata": {},
   "outputs": [
    {
     "name": "stdout",
     "output_type": "stream",
     "text": [
      "63\n"
     ]
    }
   ],
   "source": [
    "FEATS = [item for item in train_base.columns if item not in ['cust_wid', 'label']+[\n",
    "    'trx_trx_tm_diff_sum', 'trx_daytime_min', 'trx_trx_tm_diff_max', 'trx_trx_tm_diff_std','trx_day_diff_min', \n",
    "    'vie_day_std', 'vie_day_mean', 'vie_day_diff_min', 'trx_daytime_ptp',\n",
    "    'vie_acs_tm_diff_sum', 'trx_trx_tm_diff_mean', 'trx_day_std'\n",
    "]]\n",
    "TARGET_COL = 'label'\n",
    "print(len(FEATS))\n"
   ]
  },
  {
   "cell_type": "code",
   "execution_count": 12,
   "id": "cd91e96e-f5d5-4d73-a609-08e6d81e9e79",
   "metadata": {},
   "outputs": [
    {
     "name": "stdout",
     "output_type": "stream",
     "text": [
      "['age', 'gdr_cd', 'cty_cd', 'vie_day_min', 'vie_day_max', 'vie_day_ptp', 'vie_day_nunique', 'vie_page_id_count', 'vie_page_id_nunique', 'vie_acs_tm_diff_mean', 'vie_acs_tm_diff_min', 'vie_acs_tm_diff_max', 'vie_acs_tm_diff_std', 'vie_acs_tm_diff_median', 'vie_daytime_mean', 'vie_daytime_min', 'vie_daytime_max', 'vie_daytime_std', 'vie_daytime_ptp', 'vie_page_enc_mean', 'vie_page_enc_min', 'vie_page_enc_max', 'vie_page_enc_std', 'vie_page_enc_median', 'vie_page_enc_sum', 'vie_page_enc_ptp', 'vie_page_enc_sem', 'vie_page_enc_mad', 'vie_page_enc_skew', 'vie_page_enc_kurt', 'vie_page_enc_q1', 'vie_page_enc_q2', 'vie_page_enc_q3', 'vie_page_enc_q4', 'vie_page_enc_last', 'trx_day_mean', 'trx_day_min', 'trx_day_max', 'trx_day_ptp', 'trx_day_nunique', 'trx_trx_cd_count', 'trx_trx_cd_nunique', 'trx_trx_tm_diff_min', 'trx_trx_tm_diff_median', 'trx_daytime_mean', 'trx_daytime_max', 'trx_daytime_std', 'trx_trx_amt_mean', 'trx_trx_amt_min', 'trx_trx_amt_max', 'trx_trx_amt_std', 'trx_trx_amt_median', 'trx_trx_amt_sum', 'trx_trx_amt_ptp', 'trx_trx_amt_last', 'trx_trx_enc_mean', 'trx_trx_enc_min', 'trx_trx_enc_max', 'trx_trx_enc_std', 'trx_trx_enc_median', 'trx_trx_enc_sum', 'trx_trx_enc_ptp', 'trx_trx_enc_last']\n"
     ]
    }
   ],
   "source": [
    "print(FEATS)"
   ]
  },
  {
   "cell_type": "code",
   "execution_count": 13,
   "id": "fc1b486f-8b37-44a8-a958-a7b2e904131f",
   "metadata": {},
   "outputs": [],
   "source": [
    "def corr_feats_func(feat_data, target_data):\n",
    "    from scipy.stats import kendalltau, spearmanr, pearsonr\n",
    "    idx = ~(np.isnan(feat_data) | np.isnan(target_data))\n",
    "    tau, p_value = kendalltau(feat_data.loc[idx], target_data.loc[idx])\n",
    "    return np.abs(tau)\n",
    "def all_corr_data(train_x, train_y):\n",
    "    from scipy.stats import kendalltau, spearmanr, pearsonr\n",
    "    FEATURE_COLS = [i for i in train_x.columns if i not in [\"sample_id\", TARGET_COL, 'type']]\n",
    "    corr_data = {}\n",
    "    for item_feat in FEATURE_COLS:\n",
    "        idx = ~(np.isnan(train_x[item_feat]) | np.isnan(train_y))\n",
    "        tau, p_value = kendalltau(train_x.loc[idx, item_feat], train_y.loc[idx])\n",
    "        corr_data[item_feat] = np.abs(tau)\n",
    "    corr_data = pd.DataFrame(corr_data, index=[\"corr\"]).T\n",
    "    corr_data = corr_data.sort_values(by=\"corr\", ascending=False)\n",
    "    # corr_data.to_csv(f'EDA/corr_{BASE_LABEL}.csv', index=True)\n",
    "    return corr_data"
   ]
  },
  {
   "cell_type": "code",
   "execution_count": 14,
   "id": "b56cb2cf-9ae6-4f38-a21a-0513fc645ae3",
   "metadata": {},
   "outputs": [],
   "source": [
    "# print(\"去重前\", len(FEATS))\n",
    "# tmp = train_base[FEATS].T\n",
    "# FEATURE_COLS = tmp.drop_duplicates().index.to_list()\n",
    "# print(\"去重后\", len(FEATURE_COLS))\n",
    "\n",
    "# single_feats = []\n",
    "# for item_feat in tqdm(FEATURE_COLS):\n",
    "#     a = train_base[item_feat].value_counts()\n",
    "#     if a.index.shape[0] <= 1 and item_feat not in [\"id\", \"type\"]:\n",
    "#         continue\n",
    "#     else:\n",
    "#         single_feats.append(item_feat)\n",
    "# FEATURE_COLS = single_feats\n",
    "# print(\"去单后\", len(FEATURE_COLS))"
   ]
  },
  {
   "cell_type": "code",
   "execution_count": null,
   "id": "96891c19-6463-4efe-b816-5b2b6bdc5892",
   "metadata": {},
   "outputs": [],
   "source": []
  },
  {
   "cell_type": "code",
   "execution_count": null,
   "id": "684f9976-af3f-4629-8761-45611239a223",
   "metadata": {},
   "outputs": [],
   "source": []
  },
  {
   "cell_type": "code",
   "execution_count": 15,
   "id": "406f13d0-58f8-4a95-8534-a142d161efe6",
   "metadata": {
    "tags": []
   },
   "outputs": [],
   "source": [
    "class cv_model():\n",
    "    def __init__(self, task_name='lgb', nfold=5, seed=SEED, save_path=MODEL_PAHT):\n",
    "        self.nfold = nfold\n",
    "        self.seed = seed\n",
    "        self.save_path = save_path\n",
    "        self.models = []\n",
    "        self.task_name = task_name\n",
    "    \n",
    "    def save_model(self):\n",
    "        for i, model in enumerate(self.models):\n",
    "            save_obj(model, os.path.join(self.save_path, f\"{self.task_name}_fold_{i}\"))\n",
    "    \n",
    "    def load_model(self):\n",
    "        self.models = []\n",
    "        for i in range(self.nfold):\n",
    "            model = load_obj(os.path.join(self.save_path, f\"{self.task_name}_fold_{i}\"))\n",
    "            self.models.append(model)\n",
    "    \n",
    "    def fit(self, params, train_x, train_y, cat_feats):\n",
    "        kf = StratifiedKFold(n_splits=self.nfold, random_state=self.seed, shuffle=True)\n",
    "        feat_imp = pd.DataFrame({'feat': train_x.columns})\n",
    "        train_oof = np.zeros(len(train_x))\n",
    "        for fold, (trn_idx, val_idx) in enumerate(kf.split(train_x, train_y)):\n",
    "            trn_data = lgb.Dataset(train_x.iloc[trn_idx], label=train_y.iloc[trn_idx], categorical_feature=cat_feats)\n",
    "            val_data = lgb.Dataset(train_x.iloc[val_idx], label=train_y.iloc[val_idx], categorical_feature=cat_feats)\n",
    "            model = lgb.train(\n",
    "                params,\n",
    "                trn_data,\n",
    "                num_boost_round=30000,\n",
    "                valid_sets=[trn_data, val_data],\n",
    "                categorical_feature=cat_feats,\n",
    "                callbacks=[\n",
    "                    lgb.early_stopping(100),\n",
    "                    lgb.log_evaluation(100)\n",
    "                ]\n",
    "            )\n",
    "            train_oof[val_idx] = model.predict(train_x.iloc[val_idx], num_iteration=model.best_iteration)\n",
    "            self.models.append(model)\n",
    "            feat_imp[f'fold_{fold}'] = feat_imp['feat'].map(dict(zip(model.feature_name(), model.feature_importance())))\n",
    "        return train_oof, feat_imp\n",
    "    def predict(self, test_x):\n",
    "        test_pred = np.zeros(len(test_x))\n",
    "        for i, model in enumerate(self.models):\n",
    "            test_pred+=model.predict(test_x, num_iteration=model.best_iteration)/len(self.models)\n",
    "        return test_pred\n",
    "                                                         \n",
    "            \n",
    "            \n"
   ]
  },
  {
   "cell_type": "code",
   "execution_count": null,
   "id": "037ad870-9365-41e0-8c76-3c76d667f4b0",
   "metadata": {},
   "outputs": [],
   "source": []
  },
  {
   "cell_type": "code",
   "execution_count": 16,
   "id": "93ab10ef-3a9f-4570-b7d6-c5d32bbb6f10",
   "metadata": {},
   "outputs": [
    {
     "name": "stderr",
     "output_type": "stream",
     "text": [
      "/opt/conda/lib/python3.9/site-packages/lightgbm/basic.py:1780: UserWarning: Overriding the parameters from Reference Dataset.\n",
      "  _log_warning('Overriding the parameters from Reference Dataset.')\n",
      "/opt/conda/lib/python3.9/site-packages/lightgbm/basic.py:1513: UserWarning: categorical_column in param dict is overridden.\n",
      "  _log_warning(f'{cat_alias} in param dict is overridden.')\n"
     ]
    },
    {
     "name": "stdout",
     "output_type": "stream",
     "text": [
      "Training until validation scores don't improve for 100 rounds\n",
      "[100]\ttraining's auc: 0.83062\tvalid_1's auc: 0.829365\n",
      "[200]\ttraining's auc: 0.85658\tvalid_1's auc: 0.851829\n",
      "[300]\ttraining's auc: 0.870799\tvalid_1's auc: 0.863226\n",
      "[400]\ttraining's auc: 0.879574\tvalid_1's auc: 0.869135\n",
      "[500]\ttraining's auc: 0.886439\tvalid_1's auc: 0.873001\n",
      "[600]\ttraining's auc: 0.891719\tvalid_1's auc: 0.874967\n",
      "[700]\ttraining's auc: 0.896363\tvalid_1's auc: 0.876182\n",
      "[800]\ttraining's auc: 0.90078\tvalid_1's auc: 0.87729\n",
      "[900]\ttraining's auc: 0.904951\tvalid_1's auc: 0.878488\n",
      "[1000]\ttraining's auc: 0.90864\tvalid_1's auc: 0.879186\n",
      "[1100]\ttraining's auc: 0.912233\tvalid_1's auc: 0.879774\n",
      "[1200]\ttraining's auc: 0.915608\tvalid_1's auc: 0.880314\n",
      "[1300]\ttraining's auc: 0.918927\tvalid_1's auc: 0.880816\n",
      "[1400]\ttraining's auc: 0.921901\tvalid_1's auc: 0.880994\n",
      "[1500]\ttraining's auc: 0.92461\tvalid_1's auc: 0.881393\n",
      "[1600]\ttraining's auc: 0.927418\tvalid_1's auc: 0.881455\n",
      "[1700]\ttraining's auc: 0.930113\tvalid_1's auc: 0.881891\n",
      "[1800]\ttraining's auc: 0.932862\tvalid_1's auc: 0.882144\n",
      "[1900]\ttraining's auc: 0.935179\tvalid_1's auc: 0.882351\n",
      "[2000]\ttraining's auc: 0.937546\tvalid_1's auc: 0.882718\n",
      "[2100]\ttraining's auc: 0.939751\tvalid_1's auc: 0.882628\n",
      "Early stopping, best iteration is:\n",
      "[2005]\ttraining's auc: 0.937641\tvalid_1's auc: 0.882815\n"
     ]
    },
    {
     "name": "stderr",
     "output_type": "stream",
     "text": [
      "/opt/conda/lib/python3.9/site-packages/lightgbm/basic.py:1780: UserWarning: Overriding the parameters from Reference Dataset.\n",
      "  _log_warning('Overriding the parameters from Reference Dataset.')\n",
      "/opt/conda/lib/python3.9/site-packages/lightgbm/basic.py:1513: UserWarning: categorical_column in param dict is overridden.\n",
      "  _log_warning(f'{cat_alias} in param dict is overridden.')\n"
     ]
    },
    {
     "name": "stdout",
     "output_type": "stream",
     "text": [
      "Training until validation scores don't improve for 100 rounds\n",
      "[100]\ttraining's auc: 0.830219\tvalid_1's auc: 0.824768\n",
      "[200]\ttraining's auc: 0.856932\tvalid_1's auc: 0.849126\n",
      "[300]\ttraining's auc: 0.870748\tvalid_1's auc: 0.86081\n",
      "[400]\ttraining's auc: 0.88006\tvalid_1's auc: 0.866839\n",
      "[500]\ttraining's auc: 0.886648\tvalid_1's auc: 0.870109\n",
      "[600]\ttraining's auc: 0.89204\tvalid_1's auc: 0.87192\n",
      "[700]\ttraining's auc: 0.896921\tvalid_1's auc: 0.874057\n",
      "[800]\ttraining's auc: 0.901098\tvalid_1's auc: 0.87531\n",
      "[900]\ttraining's auc: 0.905106\tvalid_1's auc: 0.876051\n",
      "[1000]\ttraining's auc: 0.90896\tvalid_1's auc: 0.877021\n",
      "[1100]\ttraining's auc: 0.912654\tvalid_1's auc: 0.877596\n",
      "[1200]\ttraining's auc: 0.91605\tvalid_1's auc: 0.878143\n",
      "[1300]\ttraining's auc: 0.91923\tvalid_1's auc: 0.878703\n",
      "[1400]\ttraining's auc: 0.922195\tvalid_1's auc: 0.879048\n",
      "[1500]\ttraining's auc: 0.925084\tvalid_1's auc: 0.879481\n",
      "[1600]\ttraining's auc: 0.927806\tvalid_1's auc: 0.879783\n",
      "[1700]\ttraining's auc: 0.930331\tvalid_1's auc: 0.879837\n",
      "[1800]\ttraining's auc: 0.932866\tvalid_1's auc: 0.879896\n",
      "[1900]\ttraining's auc: 0.935352\tvalid_1's auc: 0.880315\n",
      "[2000]\ttraining's auc: 0.937761\tvalid_1's auc: 0.880436\n",
      "[2100]\ttraining's auc: 0.939917\tvalid_1's auc: 0.880549\n",
      "[2200]\ttraining's auc: 0.942022\tvalid_1's auc: 0.880898\n",
      "[2300]\ttraining's auc: 0.944171\tvalid_1's auc: 0.881297\n",
      "[2400]\ttraining's auc: 0.946176\tvalid_1's auc: 0.881446\n",
      "[2500]\ttraining's auc: 0.948081\tvalid_1's auc: 0.881533\n",
      "[2600]\ttraining's auc: 0.94991\tvalid_1's auc: 0.881693\n",
      "[2700]\ttraining's auc: 0.951662\tvalid_1's auc: 0.881669\n",
      "Early stopping, best iteration is:\n",
      "[2626]\ttraining's auc: 0.950403\tvalid_1's auc: 0.881818\n"
     ]
    },
    {
     "name": "stderr",
     "output_type": "stream",
     "text": [
      "/opt/conda/lib/python3.9/site-packages/lightgbm/basic.py:1780: UserWarning: Overriding the parameters from Reference Dataset.\n",
      "  _log_warning('Overriding the parameters from Reference Dataset.')\n",
      "/opt/conda/lib/python3.9/site-packages/lightgbm/basic.py:1513: UserWarning: categorical_column in param dict is overridden.\n",
      "  _log_warning(f'{cat_alias} in param dict is overridden.')\n"
     ]
    },
    {
     "name": "stdout",
     "output_type": "stream",
     "text": [
      "Training until validation scores don't improve for 100 rounds\n",
      "[100]\ttraining's auc: 0.83201\tvalid_1's auc: 0.827339\n",
      "[200]\ttraining's auc: 0.858404\tvalid_1's auc: 0.850455\n",
      "[300]\ttraining's auc: 0.872115\tvalid_1's auc: 0.862035\n",
      "[400]\ttraining's auc: 0.880804\tvalid_1's auc: 0.867865\n",
      "[500]\ttraining's auc: 0.8872\tvalid_1's auc: 0.871276\n",
      "[600]\ttraining's auc: 0.892511\tvalid_1's auc: 0.873192\n",
      "[700]\ttraining's auc: 0.897165\tvalid_1's auc: 0.874475\n",
      "[800]\ttraining's auc: 0.901638\tvalid_1's auc: 0.875905\n",
      "[900]\ttraining's auc: 0.90542\tvalid_1's auc: 0.87666\n",
      "[1000]\ttraining's auc: 0.909117\tvalid_1's auc: 0.877217\n",
      "[1100]\ttraining's auc: 0.912795\tvalid_1's auc: 0.877605\n",
      "[1200]\ttraining's auc: 0.916047\tvalid_1's auc: 0.878452\n",
      "[1300]\ttraining's auc: 0.919173\tvalid_1's auc: 0.878749\n",
      "[1400]\ttraining's auc: 0.92213\tvalid_1's auc: 0.879094\n",
      "[1500]\ttraining's auc: 0.924882\tvalid_1's auc: 0.879662\n",
      "[1600]\ttraining's auc: 0.927747\tvalid_1's auc: 0.880101\n",
      "[1700]\ttraining's auc: 0.93043\tvalid_1's auc: 0.880632\n",
      "[1800]\ttraining's auc: 0.933011\tvalid_1's auc: 0.880995\n",
      "[1900]\ttraining's auc: 0.93533\tvalid_1's auc: 0.881265\n",
      "[2000]\ttraining's auc: 0.937667\tvalid_1's auc: 0.881401\n",
      "[2100]\ttraining's auc: 0.939863\tvalid_1's auc: 0.881593\n",
      "[2200]\ttraining's auc: 0.942012\tvalid_1's auc: 0.881794\n",
      "[2300]\ttraining's auc: 0.943953\tvalid_1's auc: 0.882066\n",
      "[2400]\ttraining's auc: 0.94598\tvalid_1's auc: 0.882213\n",
      "[2500]\ttraining's auc: 0.947955\tvalid_1's auc: 0.882384\n",
      "[2600]\ttraining's auc: 0.949797\tvalid_1's auc: 0.882449\n",
      "[2700]\ttraining's auc: 0.951571\tvalid_1's auc: 0.882414\n",
      "Early stopping, best iteration is:\n",
      "[2645]\ttraining's auc: 0.950644\tvalid_1's auc: 0.882486\n"
     ]
    },
    {
     "name": "stderr",
     "output_type": "stream",
     "text": [
      "/opt/conda/lib/python3.9/site-packages/lightgbm/basic.py:1780: UserWarning: Overriding the parameters from Reference Dataset.\n",
      "  _log_warning('Overriding the parameters from Reference Dataset.')\n",
      "/opt/conda/lib/python3.9/site-packages/lightgbm/basic.py:1513: UserWarning: categorical_column in param dict is overridden.\n",
      "  _log_warning(f'{cat_alias} in param dict is overridden.')\n"
     ]
    },
    {
     "name": "stdout",
     "output_type": "stream",
     "text": [
      "Training until validation scores don't improve for 100 rounds\n",
      "[100]\ttraining's auc: 0.831209\tvalid_1's auc: 0.825914\n",
      "[200]\ttraining's auc: 0.857332\tvalid_1's auc: 0.850681\n",
      "[300]\ttraining's auc: 0.87137\tvalid_1's auc: 0.862389\n",
      "[400]\ttraining's auc: 0.880286\tvalid_1's auc: 0.868368\n",
      "[500]\ttraining's auc: 0.886642\tvalid_1's auc: 0.870999\n",
      "[600]\ttraining's auc: 0.892037\tvalid_1's auc: 0.872881\n",
      "[700]\ttraining's auc: 0.896947\tvalid_1's auc: 0.874476\n",
      "[800]\ttraining's auc: 0.901043\tvalid_1's auc: 0.875101\n",
      "[900]\ttraining's auc: 0.905116\tvalid_1's auc: 0.876213\n",
      "[1000]\ttraining's auc: 0.908886\tvalid_1's auc: 0.876993\n",
      "[1100]\ttraining's auc: 0.912357\tvalid_1's auc: 0.877496\n",
      "[1200]\ttraining's auc: 0.915762\tvalid_1's auc: 0.878174\n",
      "[1300]\ttraining's auc: 0.919036\tvalid_1's auc: 0.878468\n",
      "[1400]\ttraining's auc: 0.921894\tvalid_1's auc: 0.878927\n",
      "[1500]\ttraining's auc: 0.924934\tvalid_1's auc: 0.879263\n",
      "[1600]\ttraining's auc: 0.927904\tvalid_1's auc: 0.879655\n",
      "[1700]\ttraining's auc: 0.930448\tvalid_1's auc: 0.879771\n",
      "[1800]\ttraining's auc: 0.93295\tvalid_1's auc: 0.879999\n",
      "[1900]\ttraining's auc: 0.935396\tvalid_1's auc: 0.880425\n",
      "[2000]\ttraining's auc: 0.937865\tvalid_1's auc: 0.88042\n",
      "Early stopping, best iteration is:\n",
      "[1962]\ttraining's auc: 0.936982\tvalid_1's auc: 0.8805\n"
     ]
    },
    {
     "name": "stderr",
     "output_type": "stream",
     "text": [
      "/opt/conda/lib/python3.9/site-packages/lightgbm/basic.py:1780: UserWarning: Overriding the parameters from Reference Dataset.\n",
      "  _log_warning('Overriding the parameters from Reference Dataset.')\n",
      "/opt/conda/lib/python3.9/site-packages/lightgbm/basic.py:1513: UserWarning: categorical_column in param dict is overridden.\n",
      "  _log_warning(f'{cat_alias} in param dict is overridden.')\n"
     ]
    },
    {
     "name": "stdout",
     "output_type": "stream",
     "text": [
      "Training until validation scores don't improve for 100 rounds\n",
      "[100]\ttraining's auc: 0.833419\tvalid_1's auc: 0.823584\n",
      "[200]\ttraining's auc: 0.857858\tvalid_1's auc: 0.846088\n",
      "[300]\ttraining's auc: 0.872209\tvalid_1's auc: 0.858377\n",
      "[400]\ttraining's auc: 0.880899\tvalid_1's auc: 0.864293\n",
      "[500]\ttraining's auc: 0.887365\tvalid_1's auc: 0.867236\n",
      "[600]\ttraining's auc: 0.892695\tvalid_1's auc: 0.869614\n",
      "[700]\ttraining's auc: 0.897342\tvalid_1's auc: 0.870888\n",
      "[800]\ttraining's auc: 0.901663\tvalid_1's auc: 0.871864\n",
      "[900]\ttraining's auc: 0.905611\tvalid_1's auc: 0.872581\n",
      "[1000]\ttraining's auc: 0.909302\tvalid_1's auc: 0.873347\n",
      "[1100]\ttraining's auc: 0.912797\tvalid_1's auc: 0.873625\n",
      "[1200]\ttraining's auc: 0.916104\tvalid_1's auc: 0.874171\n",
      "[1300]\ttraining's auc: 0.91927\tvalid_1's auc: 0.874555\n",
      "[1400]\ttraining's auc: 0.922306\tvalid_1's auc: 0.875033\n",
      "[1500]\ttraining's auc: 0.925144\tvalid_1's auc: 0.875471\n",
      "[1600]\ttraining's auc: 0.928057\tvalid_1's auc: 0.875837\n",
      "[1700]\ttraining's auc: 0.930558\tvalid_1's auc: 0.876304\n",
      "[1800]\ttraining's auc: 0.933143\tvalid_1's auc: 0.876714\n",
      "[1900]\ttraining's auc: 0.935489\tvalid_1's auc: 0.876979\n",
      "[2000]\ttraining's auc: 0.937939\tvalid_1's auc: 0.877422\n",
      "Early stopping, best iteration is:\n",
      "[1989]\ttraining's auc: 0.937637\tvalid_1's auc: 0.87748\n"
     ]
    },
    {
     "name": "stderr",
     "output_type": "stream",
     "text": [
      "/opt/conda/lib/python3.9/site-packages/lightgbm/basic.py:1780: UserWarning: Overriding the parameters from Reference Dataset.\n",
      "  _log_warning('Overriding the parameters from Reference Dataset.')\n",
      "/opt/conda/lib/python3.9/site-packages/lightgbm/basic.py:1513: UserWarning: categorical_column in param dict is overridden.\n",
      "  _log_warning(f'{cat_alias} in param dict is overridden.')\n"
     ]
    },
    {
     "name": "stdout",
     "output_type": "stream",
     "text": [
      "Training until validation scores don't improve for 100 rounds\n",
      "[100]\ttraining's auc: 0.829986\tvalid_1's auc: 0.828168\n",
      "[200]\ttraining's auc: 0.856239\tvalid_1's auc: 0.85105\n",
      "[300]\ttraining's auc: 0.871041\tvalid_1's auc: 0.862705\n",
      "[400]\ttraining's auc: 0.87974\tvalid_1's auc: 0.867954\n",
      "[500]\ttraining's auc: 0.886347\tvalid_1's auc: 0.871375\n",
      "[600]\ttraining's auc: 0.891635\tvalid_1's auc: 0.873555\n",
      "[700]\ttraining's auc: 0.896447\tvalid_1's auc: 0.87545\n",
      "[800]\ttraining's auc: 0.900802\tvalid_1's auc: 0.876314\n",
      "[900]\ttraining's auc: 0.904887\tvalid_1's auc: 0.877538\n",
      "[1000]\ttraining's auc: 0.908537\tvalid_1's auc: 0.878557\n",
      "[1100]\ttraining's auc: 0.912095\tvalid_1's auc: 0.879112\n",
      "[1200]\ttraining's auc: 0.915347\tvalid_1's auc: 0.879082\n",
      "[1300]\ttraining's auc: 0.918531\tvalid_1's auc: 0.87964\n",
      "[1400]\ttraining's auc: 0.921449\tvalid_1's auc: 0.879928\n",
      "[1500]\ttraining's auc: 0.924487\tvalid_1's auc: 0.880347\n",
      "[1600]\ttraining's auc: 0.927367\tvalid_1's auc: 0.880859\n",
      "[1700]\ttraining's auc: 0.930029\tvalid_1's auc: 0.880864\n",
      "[1800]\ttraining's auc: 0.932571\tvalid_1's auc: 0.881323\n",
      "[1900]\ttraining's auc: 0.935009\tvalid_1's auc: 0.881479\n",
      "[2000]\ttraining's auc: 0.937279\tvalid_1's auc: 0.881597\n",
      "[2100]\ttraining's auc: 0.939581\tvalid_1's auc: 0.881681\n",
      "[2200]\ttraining's auc: 0.941748\tvalid_1's auc: 0.882087\n",
      "[2300]\ttraining's auc: 0.94382\tvalid_1's auc: 0.882192\n",
      "[2400]\ttraining's auc: 0.945928\tvalid_1's auc: 0.882447\n",
      "[2500]\ttraining's auc: 0.947871\tvalid_1's auc: 0.882396\n",
      "[2600]\ttraining's auc: 0.949738\tvalid_1's auc: 0.882475\n",
      "[2700]\ttraining's auc: 0.951471\tvalid_1's auc: 0.882619\n",
      "[2800]\ttraining's auc: 0.953232\tvalid_1's auc: 0.882566\n",
      "Early stopping, best iteration is:\n",
      "[2715]\ttraining's auc: 0.951723\tvalid_1's auc: 0.88264\n"
     ]
    },
    {
     "name": "stderr",
     "output_type": "stream",
     "text": [
      "/opt/conda/lib/python3.9/site-packages/lightgbm/basic.py:1780: UserWarning: Overriding the parameters from Reference Dataset.\n",
      "  _log_warning('Overriding the parameters from Reference Dataset.')\n",
      "/opt/conda/lib/python3.9/site-packages/lightgbm/basic.py:1513: UserWarning: categorical_column in param dict is overridden.\n",
      "  _log_warning(f'{cat_alias} in param dict is overridden.')\n"
     ]
    },
    {
     "name": "stdout",
     "output_type": "stream",
     "text": [
      "Training until validation scores don't improve for 100 rounds\n",
      "[100]\ttraining's auc: 0.831582\tvalid_1's auc: 0.824649\n",
      "[200]\ttraining's auc: 0.85717\tvalid_1's auc: 0.847177\n",
      "[300]\ttraining's auc: 0.871671\tvalid_1's auc: 0.859648\n",
      "[400]\ttraining's auc: 0.880449\tvalid_1's auc: 0.865754\n",
      "[500]\ttraining's auc: 0.886859\tvalid_1's auc: 0.86911\n",
      "[600]\ttraining's auc: 0.89219\tvalid_1's auc: 0.871229\n",
      "[700]\ttraining's auc: 0.896982\tvalid_1's auc: 0.872697\n",
      "[800]\ttraining's auc: 0.901364\tvalid_1's auc: 0.873793\n",
      "[900]\ttraining's auc: 0.90558\tvalid_1's auc: 0.874737\n",
      "[1000]\ttraining's auc: 0.909279\tvalid_1's auc: 0.875282\n",
      "[1100]\ttraining's auc: 0.912553\tvalid_1's auc: 0.876058\n",
      "[1200]\ttraining's auc: 0.915895\tvalid_1's auc: 0.87648\n",
      "[1300]\ttraining's auc: 0.919136\tvalid_1's auc: 0.877001\n",
      "[1400]\ttraining's auc: 0.922129\tvalid_1's auc: 0.87731\n",
      "[1500]\ttraining's auc: 0.925052\tvalid_1's auc: 0.87793\n",
      "[1600]\ttraining's auc: 0.927955\tvalid_1's auc: 0.878297\n",
      "[1700]\ttraining's auc: 0.93055\tvalid_1's auc: 0.87847\n",
      "[1800]\ttraining's auc: 0.93304\tvalid_1's auc: 0.878959\n",
      "[1900]\ttraining's auc: 0.935497\tvalid_1's auc: 0.879363\n",
      "[2000]\ttraining's auc: 0.937796\tvalid_1's auc: 0.879391\n",
      "[2100]\ttraining's auc: 0.940037\tvalid_1's auc: 0.879998\n",
      "[2200]\ttraining's auc: 0.942225\tvalid_1's auc: 0.88023\n",
      "[2300]\ttraining's auc: 0.944331\tvalid_1's auc: 0.880456\n",
      "[2400]\ttraining's auc: 0.946326\tvalid_1's auc: 0.880609\n",
      "[2500]\ttraining's auc: 0.948224\tvalid_1's auc: 0.881084\n",
      "[2600]\ttraining's auc: 0.950161\tvalid_1's auc: 0.881178\n",
      "[2700]\ttraining's auc: 0.951904\tvalid_1's auc: 0.881236\n",
      "[2800]\ttraining's auc: 0.953671\tvalid_1's auc: 0.881351\n",
      "[2900]\ttraining's auc: 0.955366\tvalid_1's auc: 0.881579\n",
      "[3000]\ttraining's auc: 0.95699\tvalid_1's auc: 0.881666\n",
      "Early stopping, best iteration is:\n",
      "[2954]\ttraining's auc: 0.956258\tvalid_1's auc: 0.881743\n"
     ]
    },
    {
     "name": "stderr",
     "output_type": "stream",
     "text": [
      "/opt/conda/lib/python3.9/site-packages/lightgbm/basic.py:1780: UserWarning: Overriding the parameters from Reference Dataset.\n",
      "  _log_warning('Overriding the parameters from Reference Dataset.')\n",
      "/opt/conda/lib/python3.9/site-packages/lightgbm/basic.py:1513: UserWarning: categorical_column in param dict is overridden.\n",
      "  _log_warning(f'{cat_alias} in param dict is overridden.')\n"
     ]
    },
    {
     "name": "stdout",
     "output_type": "stream",
     "text": [
      "Training until validation scores don't improve for 100 rounds\n",
      "[100]\ttraining's auc: 0.830763\tvalid_1's auc: 0.825734\n",
      "[200]\ttraining's auc: 0.857384\tvalid_1's auc: 0.850091\n",
      "[300]\ttraining's auc: 0.87124\tvalid_1's auc: 0.86154\n",
      "[400]\ttraining's auc: 0.880457\tvalid_1's auc: 0.86808\n",
      "[500]\ttraining's auc: 0.887235\tvalid_1's auc: 0.871842\n",
      "[600]\ttraining's auc: 0.892401\tvalid_1's auc: 0.873579\n",
      "[700]\ttraining's auc: 0.897092\tvalid_1's auc: 0.874966\n",
      "[800]\ttraining's auc: 0.901171\tvalid_1's auc: 0.876153\n",
      "[900]\ttraining's auc: 0.904991\tvalid_1's auc: 0.876497\n",
      "[1000]\ttraining's auc: 0.908739\tvalid_1's auc: 0.877457\n",
      "[1100]\ttraining's auc: 0.912431\tvalid_1's auc: 0.878107\n",
      "[1200]\ttraining's auc: 0.915912\tvalid_1's auc: 0.878632\n",
      "[1300]\ttraining's auc: 0.919145\tvalid_1's auc: 0.879359\n",
      "[1400]\ttraining's auc: 0.92202\tvalid_1's auc: 0.87962\n",
      "[1500]\ttraining's auc: 0.924867\tvalid_1's auc: 0.87972\n",
      "[1600]\ttraining's auc: 0.927631\tvalid_1's auc: 0.880113\n",
      "[1700]\ttraining's auc: 0.930256\tvalid_1's auc: 0.880457\n",
      "[1800]\ttraining's auc: 0.932875\tvalid_1's auc: 0.880664\n",
      "[1900]\ttraining's auc: 0.935221\tvalid_1's auc: 0.880903\n",
      "Early stopping, best iteration is:\n",
      "[1870]\ttraining's auc: 0.934552\tvalid_1's auc: 0.88097\n"
     ]
    },
    {
     "name": "stderr",
     "output_type": "stream",
     "text": [
      "/opt/conda/lib/python3.9/site-packages/lightgbm/basic.py:1780: UserWarning: Overriding the parameters from Reference Dataset.\n",
      "  _log_warning('Overriding the parameters from Reference Dataset.')\n",
      "/opt/conda/lib/python3.9/site-packages/lightgbm/basic.py:1513: UserWarning: categorical_column in param dict is overridden.\n",
      "  _log_warning(f'{cat_alias} in param dict is overridden.')\n"
     ]
    },
    {
     "name": "stdout",
     "output_type": "stream",
     "text": [
      "Training until validation scores don't improve for 100 rounds\n",
      "[100]\ttraining's auc: 0.830247\tvalid_1's auc: 0.829153\n",
      "[200]\ttraining's auc: 0.857006\tvalid_1's auc: 0.852957\n",
      "[300]\ttraining's auc: 0.870789\tvalid_1's auc: 0.864459\n",
      "[400]\ttraining's auc: 0.879227\tvalid_1's auc: 0.870044\n",
      "[500]\ttraining's auc: 0.886142\tvalid_1's auc: 0.874592\n",
      "[600]\ttraining's auc: 0.891332\tvalid_1's auc: 0.876271\n",
      "[700]\ttraining's auc: 0.896114\tvalid_1's auc: 0.87767\n",
      "[800]\ttraining's auc: 0.900596\tvalid_1's auc: 0.878976\n",
      "[900]\ttraining's auc: 0.904443\tvalid_1's auc: 0.879656\n",
      "[1000]\ttraining's auc: 0.908297\tvalid_1's auc: 0.880672\n",
      "[1100]\ttraining's auc: 0.911788\tvalid_1's auc: 0.881203\n",
      "[1200]\ttraining's auc: 0.915103\tvalid_1's auc: 0.881837\n",
      "[1300]\ttraining's auc: 0.918323\tvalid_1's auc: 0.882376\n",
      "[1400]\ttraining's auc: 0.921342\tvalid_1's auc: 0.882926\n",
      "[1500]\ttraining's auc: 0.924277\tvalid_1's auc: 0.88303\n",
      "[1600]\ttraining's auc: 0.927064\tvalid_1's auc: 0.883462\n",
      "[1700]\ttraining's auc: 0.929824\tvalid_1's auc: 0.883825\n",
      "[1800]\ttraining's auc: 0.932393\tvalid_1's auc: 0.884172\n",
      "[1900]\ttraining's auc: 0.934884\tvalid_1's auc: 0.884484\n",
      "[2000]\ttraining's auc: 0.937295\tvalid_1's auc: 0.884987\n",
      "[2100]\ttraining's auc: 0.939533\tvalid_1's auc: 0.885158\n",
      "[2200]\ttraining's auc: 0.941774\tvalid_1's auc: 0.885412\n",
      "[2300]\ttraining's auc: 0.943866\tvalid_1's auc: 0.885713\n",
      "[2400]\ttraining's auc: 0.945941\tvalid_1's auc: 0.885818\n",
      "[2500]\ttraining's auc: 0.948007\tvalid_1's auc: 0.885928\n",
      "[2600]\ttraining's auc: 0.949997\tvalid_1's auc: 0.886136\n",
      "[2700]\ttraining's auc: 0.951721\tvalid_1's auc: 0.886471\n",
      "[2800]\ttraining's auc: 0.953348\tvalid_1's auc: 0.886533\n",
      "Early stopping, best iteration is:\n",
      "[2764]\ttraining's auc: 0.952867\tvalid_1's auc: 0.886619\n"
     ]
    },
    {
     "name": "stderr",
     "output_type": "stream",
     "text": [
      "/opt/conda/lib/python3.9/site-packages/lightgbm/basic.py:1780: UserWarning: Overriding the parameters from Reference Dataset.\n",
      "  _log_warning('Overriding the parameters from Reference Dataset.')\n",
      "/opt/conda/lib/python3.9/site-packages/lightgbm/basic.py:1513: UserWarning: categorical_column in param dict is overridden.\n",
      "  _log_warning(f'{cat_alias} in param dict is overridden.')\n"
     ]
    },
    {
     "name": "stdout",
     "output_type": "stream",
     "text": [
      "Training until validation scores don't improve for 100 rounds\n",
      "[100]\ttraining's auc: 0.83197\tvalid_1's auc: 0.825068\n",
      "[200]\ttraining's auc: 0.856878\tvalid_1's auc: 0.848201\n",
      "[300]\ttraining's auc: 0.871228\tvalid_1's auc: 0.860961\n",
      "[400]\ttraining's auc: 0.88024\tvalid_1's auc: 0.866922\n",
      "[500]\ttraining's auc: 0.886641\tvalid_1's auc: 0.869966\n",
      "[600]\ttraining's auc: 0.891832\tvalid_1's auc: 0.872215\n",
      "[700]\ttraining's auc: 0.896687\tvalid_1's auc: 0.874354\n",
      "[800]\ttraining's auc: 0.900944\tvalid_1's auc: 0.875146\n",
      "[900]\ttraining's auc: 0.905012\tvalid_1's auc: 0.875989\n",
      "[1000]\ttraining's auc: 0.908693\tvalid_1's auc: 0.876674\n",
      "[1100]\ttraining's auc: 0.912389\tvalid_1's auc: 0.87757\n",
      "[1200]\ttraining's auc: 0.915469\tvalid_1's auc: 0.877966\n",
      "[1300]\ttraining's auc: 0.918761\tvalid_1's auc: 0.878658\n",
      "[1400]\ttraining's auc: 0.92184\tvalid_1's auc: 0.87901\n",
      "[1500]\ttraining's auc: 0.924856\tvalid_1's auc: 0.879712\n",
      "[1600]\ttraining's auc: 0.927586\tvalid_1's auc: 0.880191\n",
      "[1700]\ttraining's auc: 0.930236\tvalid_1's auc: 0.880522\n",
      "[1800]\ttraining's auc: 0.932637\tvalid_1's auc: 0.880522\n",
      "[1900]\ttraining's auc: 0.935104\tvalid_1's auc: 0.88091\n",
      "[2000]\ttraining's auc: 0.937477\tvalid_1's auc: 0.881243\n",
      "[2100]\ttraining's auc: 0.939826\tvalid_1's auc: 0.881306\n",
      "[2200]\ttraining's auc: 0.941961\tvalid_1's auc: 0.881504\n",
      "[2300]\ttraining's auc: 0.944147\tvalid_1's auc: 0.881832\n",
      "[2400]\ttraining's auc: 0.946142\tvalid_1's auc: 0.881937\n",
      "Early stopping, best iteration is:\n",
      "[2374]\ttraining's auc: 0.94568\tvalid_1's auc: 0.882031\n"
     ]
    }
   ],
   "source": [
    "cla_params = {\n",
    "    'objective': 'binary', # multiclass multiclassova\n",
    "    'metric': 'auc', #  average_precision auc map\n",
    "    'boosting_type': 'gbdt',\n",
    "    'num_leaves': 16,\n",
    "    'min_data_in_leaf': 10,\n",
    "    'learning_rate': 0.05,\n",
    "    'feature_fraction': 0.9,\n",
    "    'bagging_fraction': 0.8,\n",
    "    'bagging_freq': 5,\n",
    "    'verbose': -1,\n",
    "    'feature_fraction_seed':SEED,\n",
    "    'bagging_seed':SEED,\n",
    "    'seed': SEED,\n",
    "}\n",
    "\n",
    "train_cla_x = data[FEATS]\n",
    "train_cla_y = data[TARGET_COL]\n",
    "# testB_cla_x = testB_base[FEATS]\n",
    "# print(train_cla_x.shape, train_cla_y.shape, testB_cla_x.shape)\n",
    "\n",
    "cla_model = cv_model(task_name='cla_lgb_dui', nfold=10)\n",
    "train_cla_oof, feat_cla_imp = cla_model.fit(cla_params, train_cla_x, train_cla_y, cat_feats=['gdr_cd','cty_cd'])\n",
    "cla_model.save_model()\n",
    "cla_model.load_model()\n",
    "# test_cla_pred = cla_model.predict(testB_cla_x)\n"
   ]
  },
  {
   "cell_type": "code",
   "execution_count": 17,
   "id": "220c6262-8e3e-4a5c-9011-d1dcabb53b6d",
   "metadata": {},
   "outputs": [
    {
     "name": "stdout",
     "output_type": "stream",
     "text": [
      "以精度为0.1在[0.1,0.8]范围内搜索F1最佳阈值>>最佳阈值:=0.2->F1=0.80238105\n",
      "以精度为0.02在[0.1,0.28]范围内搜索F1最佳阈值>>最佳阈值:=0.18000000000000002->F1=0.80401817\n",
      "以精度为0.004在[0.13,0.2260000000000001]范围内搜索F1最佳阈值>>最佳阈值:=0.17800000000000005->F1=0.80408693\n"
     ]
    },
    {
     "data": {
      "text/plain": [
       "(0.17800000000000005, 0.80408693, 0.5764933333333333)"
      ]
     },
     "execution_count": 17,
     "metadata": {},
     "output_type": "execute_result"
    }
   ],
   "source": [
    "thr_optimal, best_fscore = utils.get_optimal_Fscore(train_cla_y, train_cla_oof)\n",
    "thr_optimal, best_fscore, (train_cla_oof>thr_optimal).sum() / train_cla_oof.shape[0]"
   ]
  },
  {
   "cell_type": "code",
   "execution_count": 18,
   "id": "6e857563-5262-4850-bb70-49efe985a94f",
   "metadata": {},
   "outputs": [
    {
     "data": {
      "text/plain": [
       "0.8818454574"
      ]
     },
     "execution_count": 18,
     "metadata": {},
     "output_type": "execute_result"
    }
   ],
   "source": [
    "from sklearn.metrics import roc_auc_score\n",
    "roc_auc_score(train_cla_y, train_cla_oof)"
   ]
  },
  {
   "cell_type": "code",
   "execution_count": null,
   "id": "3330e5ca-047d-4e1e-9159-10362d8a895f",
   "metadata": {},
   "outputs": [],
   "source": []
  },
  {
   "cell_type": "code",
   "execution_count": null,
   "id": "1edf589a-e0ea-40a7-9de1-90d1b49cb0be",
   "metadata": {},
   "outputs": [],
   "source": []
  },
  {
   "cell_type": "code",
   "execution_count": 19,
   "id": "c8ca300f-6d77-47c7-b03e-45401a99cbdd",
   "metadata": {},
   "outputs": [
    {
     "data": {
      "text/plain": [
       "<matplotlib.legend.Legend at 0x7fcdbf2b3310>"
      ]
     },
     "execution_count": 19,
     "metadata": {},
     "output_type": "execute_result"
    },
    {
     "data": {
      "image/png": "[encoded data removed]",
      "text/plain": [
       "<Figure size 1000x450 with 2 Axes>"
      ]
     },
     "metadata": {},
     "output_type": "display_data"
    }
   ],
   "source": [
    "plt.figure(figsize=(10,4.5))\n",
    "plt.subplot(121)\n",
    "plt.hist(train_cla_oof, bins=100, alpha=0.5, label='train 1', density=True)\n",
    "# plt.hist(test_cla_pred, bins=100, alpha=0.5, label='testB', density=True)\n",
    "plt.vlines(thr_optimal, 0, 6, color='r')\n",
    "plt.legend()\n",
    "\n",
    "plt.subplot(122)\n",
    "idx = train_cla_y==1\n",
    "plt.hist(train_cla_oof[idx], bins=100, alpha=0.5, label='train 1', density=True)\n",
    "plt.hist(train_cla_oof[~idx], bins=100, alpha=0.5, label='train 0', density=True)\n",
    "plt.legend()"
   ]
  },
  {
   "cell_type": "code",
   "execution_count": 20,
   "id": "c3176255-f1ae-4602-a909-0955a10ddfd2",
   "metadata": {},
   "outputs": [],
   "source": [
    "feat_cla_imp['mean'] = feat_cla_imp[[f\"fold_{fold}\" for fold in range(cla_model.nfold)]].mean(axis=1)\n",
    "feat_cla_imp = feat_cla_imp.sort_values(by=\"mean\", ascending=False)\n",
    "feat_cla_imp.to_csv('model/feats_cla_dui_imp.csv', index=False)"
   ]
  },
  {
   "cell_type": "code",
   "execution_count": 21,
   "id": "a8328d7f-2b9d-4489-922a-ace44ebee2ef",
   "metadata": {},
   "outputs": [
    {
     "name": "stderr",
     "output_type": "stream",
     "text": [
      "/opt/conda/lib/python3.9/site-packages/scipy/stats/_stats_py.py:5218: RuntimeWarning: overflow encountered in long_scalars\n",
      "  (2 * xtie * ytie) / m + x0 * y0 / (9 * m * (size - 2)))\n"
     ]
    }
   ],
   "source": [
    "corr_data = all_corr_data(train_cla_x,train_cla_y)\n",
    "corr_data.to_csv('model/corr_dui_cla.csv')"
   ]
  },
  {
   "cell_type": "code",
   "execution_count": 34,
   "id": "bf5fe9ce-2aca-4422-bb88-cd7a68a501ac",
   "metadata": {},
   "outputs": [],
   "source": [
    "oof = pd.DataFrame({'cust_wid':data['cust_wid'], 'prob':train_cla_oof})\n",
    "oof = oof[:100000]"
   ]
  },
  {
   "cell_type": "code",
   "execution_count": 37,
   "id": "24509eff-d168-47d5-813a-dffc5ca2d152",
   "metadata": {},
   "outputs": [],
   "source": [
    "save_obj(oof,'model/prob')"
   ]
  },
  {
   "cell_type": "code",
   "execution_count": null,
   "id": "0b39546a-daf3-41e2-bb29-61d74dee348b",
   "metadata": {},
   "outputs": [],
   "source": []
  },
  {
   "cell_type": "code",
   "execution_count": null,
   "id": "27545fc8-ea8c-4f2f-b62f-089eb6618519",
   "metadata": {},
   "outputs": [],
   "source": []
  },
  {
   "cell_type": "code",
   "execution_count": null,
   "id": "97660cfe-802d-41d0-a3d2-e8374c196eaa",
   "metadata": {},
   "outputs": [],
   "source": []
  },
  {
   "cell_type": "code",
   "execution_count": 50,
   "id": "75f653ac-e832-4cd7-9d0d-df0a45ac5d0e",
   "metadata": {},
   "outputs": [
    {
     "data": {
      "text/plain": [
       "<matplotlib.legend.Legend at 0x7fea9397a1f0>"
      ]
     },
     "execution_count": 50,
     "metadata": {},
     "output_type": "execute_result"
    },
    {
     "data": {
      "image/png": "[encoded data removed]",
      "text/plain": [
       "<Figure size 640x480 with 1 Axes>"
      ]
     },
     "metadata": {},
     "output_type": "display_data"
    }
   ],
   "source": [
    "plot_feats = 'vie_page_enc_median'\n",
    "bins = np.linspace(data[plot_feats].min(), data[plot_feats].max(), 100)\n",
    "plt.hist(train_base[plot_feats], bins=bins, density=True, alpha=0.5, label='train')\n",
    "plt.hist(testB_base[plot_feats], bins=bins, density=True, alpha=0.5, label='testb')\n",
    "plt.legend()"
   ]
  },
  {
   "cell_type": "code",
   "execution_count": null,
   "id": "36cefe80-91c5-41ad-bb0d-cc02a6a34f76",
   "metadata": {},
   "outputs": [],
   "source": []
  },
  {
   "cell_type": "code",
   "execution_count": null,
   "id": "fb26f6e1-3948-43f1-8175-789251d21e78",
   "metadata": {},
   "outputs": [],
   "source": [
    "\n",
    "    "
   ]
  },
  {
   "cell_type": "code",
   "execution_count": null,
   "id": "2c8ce78e-5baf-429c-86ea-7d53d1f213fe",
   "metadata": {},
   "outputs": [],
   "source": [
    "import scipy.stats\n",
    "def JS_divergence(p,q):\n",
    "    M=(p+q)/2\n",
    "    return 0.5*scipy.stats.entropy(p, M, base=2)+0.5*scipy.stats.entropy(q, M, base=2)\n",
    "def get_JS_score(train_data, testA_data):\n",
    "    bins = np.linspace(min(train_data.min(), testA_data.min()), max(train_data.max(), testA_data.max()), 100)\n",
    "    a = plt.hist(train_data, label='train', density=True, alpha=0.5, bins=bins)[0]\n",
    "    b = plt.hist(testA_data, label='test', density=True, alpha=0.5, bins=bins)[0]\n",
    "    js = JS_divergence(a, b)\n",
    "    return js\n",
    "\n",
    "results = {}\n",
    "for item_feat in tqdm(FEATS):\n",
    "    results[item_feat] = get_JS_score(train_base[item_feat], testB_base[item_feat])\n",
    "results = pd.DataFrame(results, index=['JS']).T.sort_values('JS', ascending=False)\n",
    "results.to_csv('JS.csv')"
   ]
  },
  {
   "cell_type": "code",
   "execution_count": null,
   "id": "0be7a7b4-3834-4776-99eb-8c08bad9d4a4",
   "metadata": {},
   "outputs": [],
   "source": []
  },
  {
   "cell_type": "code",
   "execution_count": null,
   "id": "94659fcf-5065-477e-aa35-bb39fa3c4e70",
   "metadata": {},
   "outputs": [],
   "source": []
  },
  {
   "cell_type": "code",
   "execution_count": null,
   "id": "9a2cdb98-ef1a-4f5f-859b-c4d733585912",
   "metadata": {},
   "outputs": [],
   "source": []
  }
 ],
 "metadata": {
  "kernelspec": {
   "display_name": "Python 3.8.8 ('base')",
   "language": "python",
   "name": "python3"
  },
  "language_info": {
   "codemirror_mode": {
    "name": "ipython",
    "version": 3
   },
   "file_extension": ".py",
   "mimetype": "text/x-python",
   "name": "python",
   "nbconvert_exporter": "python",
   "pygments_lexer": "ipython3",
   "version": "3.8.8"
  },
  "vscode": {
   "interpreter": {
    "hash": "688e27ea2201f24f036ee87480d7d8d79d04e5ade5319763c122c3e5a8095f9a"
   }
  }
 },
 "nbformat": 4,
 "nbformat_minor": 5
}

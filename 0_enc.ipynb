{
 "cells": [
  {
   "cell_type": "code",
   "execution_count": 1,
   "id": "5d3c31cb-8c2e-43e0-bdce-7aa86e851df2",
   "metadata": {},
   "outputs": [],
   "source": [
    "import numpy as np\n",
    "import pandas as pd\n",
    "from os import path as osp\n",
    "import os\n",
    "from matplotlib import pyplot as plt\n",
    "import lightgbm as lgb\n",
    "\n",
    "import pickle\n",
    "def save_obj(obj, name):\n",
    "    with open(name + '.pickle', 'wb') as f:\n",
    "        pickle.dump(obj, f, pickle.HIGHEST_PROTOCOL)\n",
    "def load_obj(name ):\n",
    "    with open(name + '.pickle', 'rb') as f:\n",
    "        return pickle.load(f)"
   ]
  },
  {
   "cell_type": "code",
   "execution_count": 2,
   "id": "348be3ad-341f-4641-8be9-b8bb38aa25d1",
   "metadata": {},
   "outputs": [],
   "source": [
    "DATA_PATH = '/data'\n",
    "MODEL_PAHT = '/work/model'\n",
    "SEED = 2222\n",
    "if not os.path.exists(MODEL_PAHT):\n",
    "    os.mkdir(MODEL_PAHT)\n",
    "    \n",
    "data_type='train'"
   ]
  },
  {
   "cell_type": "code",
   "execution_count": 3,
   "id": "d2442b7b-7cd6-4fa5-9525-935dc55cebc8",
   "metadata": {},
   "outputs": [],
   "source": [
    "train_base = pd.read_csv(osp.join(DATA_PATH, f'{data_type}_base.csv'))\n",
    "train_base = train_base.sort_values(['cust_wid']).reset_index(drop=True)\n",
    "train_view = pd.read_csv(osp.join(DATA_PATH, f'{data_type}_view.csv'), encoding='gbk')\n",
    "train_trx = pd.read_csv(osp.join(DATA_PATH, f'{data_type}_trx.csv'))\n",
    "\n",
    "# deal base gdr_cd\n",
    "train_base['gdr_cd'] = train_base['gdr_cd'].map({'M':1, 'F':2})\n",
    "train_base['gdr_cd'] = train_base['gdr_cd'].fillna(0)\n",
    "\n",
    "# deal base cty_cd\n",
    "train_base['cty_cd'] = train_base['cty_cd'].str.slice(stop=2)\n",
    "train_base.cty_cd = train_base.cty_cd.fillna('NAN')\n",
    "cty_map = ['C', '44', '11', 'A', '31', '32', '37', '21', '42', '61', 'B', '33', '50', '12', '35', '36', '51', '43', '62', '53', '34', '23', '65', '41', 'NAN']\n",
    "cty_map = dict(zip(cty_map, range(1,len(cty_map)+1)))\n",
    "train_base['cty_cd'] = train_base['cty_cd'].map(cty_map).fillna(0)\n",
    "\n",
    "# idx = train_view.acs_tm.str.contains('下午')\n",
    "train_view.acs_tm = train_view.acs_tm.str.rstrip(':').str.replace('上午|下午', '', regex=True).str.replace('1492', '2022')\n",
    "train_view.acs_tm = pd.to_datetime(train_view.acs_tm)\n",
    "train_view['day'] = train_view.acs_tm.dt.day\n",
    "\n",
    "train_trx.trx_tm = train_trx.trx_tm.str.replace('1492', '2022')\n",
    "train_trx.trx_tm = pd.to_datetime(train_trx.trx_tm)\n",
    "train_trx['day'] = train_trx.trx_tm.dt.day\n",
    "\n",
    "if data_type=='train':\n",
    "    train_view['day'] -= 4\n",
    "    train_trx['day'] -= 4\n",
    "elif data_type=='testa':\n",
    "    train_view['day'] -= 3\n",
    "    train_trx['day'] -= 3\n",
    "\n",
    "# # train_view['day'] -= 14\n",
    "# # train_trx['day'] -= 14\n",
    "\n",
    "# print(train_trx['day'].max(), train_trx['day'].min())\n",
    "\n",
    "# # train_view = train_view.query('day>=0').reset_index(drop=True)\n",
    "# # train_trx = train_trx.query('day>=0').reset_index(drop=True)\n",
    "\n",
    "# train_view['day'] %= 14\n",
    "# train_trx['day'] %= 14\n",
    "# train_view['day'] = train_view['day'].astype('int')\n",
    "# train_trx['day'] = train_trx['day'].astype('int')\n",
    "\n",
    "# train_view = train_view.sort_values(['cust_wid','acs_tm']).reset_index(drop=True)\n",
    "# train_trx = train_trx.sort_values(['cust_wid','trx_tm']).reset_index(drop=True)\n"
   ]
  },
  {
   "cell_type": "code",
   "execution_count": 4,
   "id": "b214aa27-f536-4178-9d36-d2e40af63127",
   "metadata": {},
   "outputs": [],
   "source": [
    "idx = train_view['day'].isna()"
   ]
  },
  {
   "cell_type": "code",
   "execution_count": null,
   "id": "bcadaa7f-31ab-41c0-a617-0c9451f1b893",
   "metadata": {},
   "outputs": [],
   "source": []
  },
  {
   "cell_type": "code",
   "execution_count": null,
   "id": "bc095536-d495-4098-bdb1-9f4a21c47d4f",
   "metadata": {},
   "outputs": [],
   "source": []
  },
  {
   "cell_type": "code",
   "execution_count": 5,
   "id": "a5e40fba-0088-48aa-a7bd-b489ce35ea09",
   "metadata": {},
   "outputs": [],
   "source": [
    "train_trx = train_trx.merge(train_base[[\"cust_wid\", \"label\"]], on='cust_wid')\n",
    "train_trx['label'] = (train_trx['label']>0).astype('int')\n",
    "trx_target_enc = train_trx.groupby('trx_cd')['label'].mean().to_dict()\n",
    "save_obj(trx_target_enc, osp.join(MODEL_PAHT, 'trx_id_enc'))"
   ]
  },
  {
   "cell_type": "code",
   "execution_count": null,
   "id": "96ec2f2d-fb1d-442f-a8ab-61552a98c0de",
   "metadata": {},
   "outputs": [],
   "source": []
  },
  {
   "cell_type": "code",
   "execution_count": 6,
   "id": "2360ab49-b56a-42c1-9ecc-772a8fe9a79b",
   "metadata": {},
   "outputs": [
    {
     "data": {
      "text/plain": [
       "(2326,)"
      ]
     },
     "execution_count": 6,
     "metadata": {},
     "output_type": "execute_result"
    }
   ],
   "source": [
    "train_view['page_id'].value_counts().shape"
   ]
  },
  {
   "cell_type": "code",
   "execution_count": 7,
   "id": "24d7205c-1149-40f9-9a99-4b4e0907bbfa",
   "metadata": {},
   "outputs": [
    {
     "name": "stdout",
     "output_type": "stream",
     "text": [
      "NAN 16711\n"
     ]
    }
   ],
   "source": [
    "page = train_view['page_id'].value_counts()\n",
    "page = page[page>40].index.to_list()\n",
    "\n",
    "train_view = train_view.merge(train_base[[\"cust_wid\", \"label\"]], on='cust_wid')\n",
    "idx = train_view.page_id.isin(page)\n",
    "train_view.loc[~idx, 'page_id'] = 'NAN'\n",
    "train_view['label'] = (train_view['label']>0).astype('int')\n",
    "print('NAN', train_view.page_id.value_counts()['NAN'])\n",
    "page_target_enc = train_view.groupby('page_id')['label'].mean().to_dict()\n",
    "save_obj(page_target_enc, osp.join(MODEL_PAHT, 'page_id_enc'))"
   ]
  },
  {
   "cell_type": "code",
   "execution_count": null,
   "id": "1181c092-63d0-4866-818c-7a88b6f31728",
   "metadata": {},
   "outputs": [],
   "source": [
    "len(page)"
   ]
  },
  {
   "cell_type": "code",
   "execution_count": 9,
   "id": "872b0c97-e277-4b74-8f61-0138e07643f6",
   "metadata": {},
   "outputs": [],
   "source": [
    "# 2326\n",
    "# 10: 6928  1542\n",
    "# 20: 10366 1313\n",
    "# 40: 16711 1097\n",
    "# 50: 20215 1020"
   ]
  },
  {
   "cell_type": "code",
   "execution_count": null,
   "id": "702840cb",
   "metadata": {},
   "outputs": [],
   "source": []
  }
 ],
 "metadata": {
  "kernelspec": {
   "display_name": "Python 3.8.8 ('base')",
   "language": "python",
   "name": "python3"
  },
  "language_info": {
   "codemirror_mode": {
    "name": "ipython",
    "version": 3
   },
   "file_extension": ".py",
   "mimetype": "text/x-python",
   "name": "python",
   "nbconvert_exporter": "python",
   "pygments_lexer": "ipython3",
   "version": "3.8.8"
  },
  "vscode": {
   "interpreter": {
    "hash": "688e27ea2201f24f036ee87480d7d8d79d04e5ade5319763c122c3e5a8095f9a"
   }
  }
 },
 "nbformat": 4,
 "nbformat_minor": 5
}

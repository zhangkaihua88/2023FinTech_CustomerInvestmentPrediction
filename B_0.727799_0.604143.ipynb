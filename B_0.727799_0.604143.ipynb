{
 "cells": [
  {
   "cell_type": "code",
   "execution_count": 1,
   "id": "5d3c31cb-8c2e-43e0-bdce-7aa86e851df2",
   "metadata": {},
   "outputs": [],
   "source": [
    "import numpy as np\n",
    "import pandas as pd\n",
    "from os import path as osp\n",
    "import os\n",
    "from matplotlib import pyplot as plt\n",
    "import lightgbm as lgb\n",
    "\n",
    "from tqdm.notebook import tqdm\n",
    "from collections import Counter\n",
    "from sklearn.model_selection import StratifiedKFold\n",
    "from sklearn.metrics import roc_auc_score, f1_score, precision_score, recall_score, fbeta_score, mean_absolute_percentage_error\n",
    "import utils\n",
    "\n",
    "import pickle\n",
    "def save_obj(obj, name):\n",
    "    with open(name + '.pickle', 'wb') as f:\n",
    "        pickle.dump(obj, f, pickle.HIGHEST_PROTOCOL)\n",
    "def load_obj(name ):\n",
    "    with open(name + '.pickle', 'rb') as f:\n",
    "        return pickle.load(f)"
   ]
  },
  {
   "cell_type": "code",
   "execution_count": 2,
   "id": "8d9b7ca2-b30b-41e7-831f-f9cdd56404c6",
   "metadata": {},
   "outputs": [],
   "source": [
    "import warnings\n",
    "\n",
    "# 禁用FutureWarning警告\n",
    "warnings.simplefilter(action='ignore', category=FutureWarning)"
   ]
  },
  {
   "cell_type": "code",
   "execution_count": 3,
   "id": "348be3ad-341f-4641-8be9-b8bb38aa25d1",
   "metadata": {},
   "outputs": [],
   "source": [
    "DATA_PATH = '/data'\n",
    "MODEL_PAHT = '/work/model'\n",
    "SEED = 2222\n",
    "if not os.path.exists(MODEL_PAHT):\n",
    "    os.mkdir(MODEL_PAHT)\n",
    "    \n",
    "data_type='train'"
   ]
  },
  {
   "cell_type": "code",
   "execution_count": 4,
   "id": "4f746c12-3ba9-4c27-80e6-63d509b01c99",
   "metadata": {},
   "outputs": [],
   "source": [
    "def q1(x):\n",
    "    return x.quantile(0.1)\n",
    "def q2(x):\n",
    "    return x.quantile(0.25)\n",
    "def q3(x):\n",
    "    return x.quantile(0.7)\n",
    "def q4(x):\n",
    "    return x.quantile(0.9)\n",
    "def mode_max(x):\n",
    "    return x.mode().max()\n",
    "def mode_min(x):\n",
    "    return x.mode().min()\n",
    "def mode_mean(x):\n",
    "    return x.mode().mean()\n",
    "def mode_std(x):\n",
    "    return x.mode().std()\n",
    "def mode_len(x):\n",
    "    return x.mode().shape[0]\n",
    "def mode_times(x):\n",
    "    return x.value_counts().iloc[0]"
   ]
  },
  {
   "cell_type": "code",
   "execution_count": null,
   "id": "c4df7843-3ddb-4655-839c-f7abda817070",
   "metadata": {},
   "outputs": [],
   "source": []
  },
  {
   "cell_type": "code",
   "execution_count": 5,
   "id": "404f669b-d579-457c-b3e6-7e7cc6c87e69",
   "metadata": {},
   "outputs": [],
   "source": [
    "def get_data(data_type='train'):\n",
    "    train_base = pd.read_csv(osp.join(DATA_PATH, f'{data_type}_base.csv'))\n",
    "    train_base = train_base.sort_values(['cust_wid']).reset_index(drop=True)\n",
    "    train_view = pd.read_csv(osp.join(DATA_PATH, f'{data_type}_view.csv'), encoding='gbk')\n",
    "    train_trx = pd.read_csv(osp.join(DATA_PATH, f'{data_type}_trx.csv'))\n",
    "\n",
    "    # deal base gdr_cd\n",
    "    train_base['gdr_cd'] = train_base['gdr_cd'].map({'M':1, 'F':2})\n",
    "    train_base['gdr_cd'] = train_base['gdr_cd'].fillna(0)\n",
    "\n",
    "    # deal base cty_cd\n",
    "    train_base['cty_cd'] = train_base['cty_cd'].str.slice(stop=2)\n",
    "    train_base.cty_cd = train_base.cty_cd.fillna('NAN')\n",
    "    cty_map = ['C', '44', '11', 'A', '31', '32', '37', '21', '42', '61', 'B', '33', '50', '12', '35', '36', '51', '43', '62', '53', '34', '23', '65', '41', 'NAN']\n",
    "    cty_map = dict(zip(cty_map, range(1,len(cty_map)+1)))\n",
    "    train_base['cty_cd'] = train_base['cty_cd'].map(cty_map).fillna(0)\n",
    "\n",
    "    # idx = train_view.acs_tm.str.contains('下午')\n",
    "    train_view.acs_tm = train_view.acs_tm.str.rstrip(':').str.replace('上午|下午', '', regex=True).str.replace('1492', '2022')\n",
    "    train_view.acs_tm = pd.to_datetime(train_view.acs_tm)\n",
    "    train_view['day'] = train_view.acs_tm.dt.day\n",
    "\n",
    "    train_trx.trx_tm = train_trx.trx_tm.str.replace('1492', '2022')\n",
    "    train_trx.trx_tm = pd.to_datetime(train_trx.trx_tm)\n",
    "    train_trx['day'] = train_trx.trx_tm.dt.day\n",
    "\n",
    "    train_view['day_diff'] = train_view['day'].max() - train_view['day']\n",
    "    train_trx['day_diff'] = train_trx['day'].max() - train_trx['day']\n",
    "\n",
    "    if data_type=='train':\n",
    "        train_view['day'] -= 4\n",
    "        train_trx['day'] -= 4\n",
    "    elif data_type=='testa':\n",
    "        train_view['day'] -= 3\n",
    "        train_trx['day'] -= 3\n",
    "    elif data_type=='testb':\n",
    "        train_view['day'] -= 4\n",
    "        train_trx['day'] -= 4\n",
    "\n",
    "    print(train_trx['day'].max(), train_trx['day'].min())\n",
    "\n",
    "    train_view['ntimes'] = train_view['day']//14\n",
    "    train_trx['ntimes'] = train_trx['day']//14\n",
    "    train_view['day'] %= 14\n",
    "    train_trx['day'] %= 14\n",
    "\n",
    "#     train_idx = pd.Index(train_base['cust_wid'], name='cust_wid')\n",
    "#     tmp_idx = train_view['acs_tm'].isna()\n",
    "#     train_view_nan = pd.DataFrame({'cust_wid': train_view[tmp_idx]['cust_wid'].unique(), 'view_nan': 1}).set_index('cust_wid').reindex(train_idx).fillna(0).reset_index(drop=True)\n",
    "\n",
    "#     tmp_idx = train_trx['trx_tm'].isna()\n",
    "#     train_trx_nan = pd.DataFrame({'cust_wid': train_trx[tmp_idx]['cust_wid'].unique(), 'trx_nan': 1}).set_index('cust_wid').reindex(train_idx).fillna(0).reset_index(drop=True)\n",
    "\n",
    "#     train_base = pd.concat([train_base, train_view_nan, train_trx_nan], axis=1)\n",
    "\n",
    "\n",
    "\n",
    "    train_view = train_view.query('day>=0').reset_index(drop=True)\n",
    "    train_trx = train_trx.query('day>=0').reset_index(drop=True)\n",
    "\n",
    "\n",
    "    train_view['day'] = train_view['day'].astype('int')\n",
    "    train_trx['day'] = train_trx['day'].astype('int')\n",
    "\n",
    "    train_view = train_view.sort_values(['cust_wid','acs_tm']).reset_index(drop=True)\n",
    "    train_trx = train_trx.sort_values(['cust_wid','trx_tm']).reset_index(drop=True)\n",
    "\n",
    "    page_id_enc = load_obj(osp.join(MODEL_PAHT, 'page_id_enc'))\n",
    "    trx_id_enc = load_obj(osp.join(MODEL_PAHT, 'trx_id_enc'))\n",
    "\n",
    "    train_view['page_enc'] = train_view['page_id'].map(page_id_enc)\n",
    "    train_view['page_enc'] = train_view['page_enc'].fillna(page_id_enc['NAN'])\n",
    "    train_trx['trx_enc'] = train_trx['trx_cd'].map(trx_id_enc)\n",
    "\n",
    "    train_view['acs_tm_diff'] = train_view.groupby('cust_wid')['acs_tm'].diff().dt.total_seconds()\n",
    "    train_trx['trx_tm_diff'] = train_trx.groupby('cust_wid')['trx_tm'].diff().dt.total_seconds()\n",
    "    train_view['daytime'] = train_view['acs_tm'].dt.time.apply(lambda x: x.hour*3600 + x.minute*60 + x.second)\n",
    "    train_trx['daytime'] = train_trx['trx_tm'].dt.time.apply(lambda x: x.hour*3600 + x.minute*60 + x.second)\n",
    "    train_trx['flag'] = (train_trx['trx_amt'] >0).astype('int')\n",
    "\n",
    "    train_idx = pd.Index(train_base['cust_wid'], name='cust_wid')\n",
    "\n",
    "    view_agg_func = {\n",
    "        'day':['mean', 'min', 'max', 'std', np.ptp, 'nunique'],\n",
    "        'page_id':['count', 'nunique'], \n",
    "        'acs_tm_diff':['mean', 'min', 'max', 'std', 'median', 'sum'], \n",
    "        'daytime':['mean', 'min', 'max', 'std', np.ptp],\n",
    "        'page_enc': [\n",
    "            'mean', 'min', 'max', 'std', 'median', 'sum', \n",
    "            np.ptp, \"sem\", \"mad\", \"skew\", pd.Series.kurtosis, \n",
    "            q1, q2, q3, q4, 'last',\n",
    "            # mode_max, mode_min, mode_mean, mode_std, mode_len, mode_times\n",
    "        ],\n",
    "        'day_diff': ['min'],\n",
    "    }\n",
    "    train_view_c = train_view.groupby('cust_wid').agg(view_agg_func).reindex(train_idx).reset_index(drop=True)\n",
    "    train_view_c.columns = [f'vie_{item[0]}_{item[1]}' if item[0] not in ['cust_wid'] else item[0] for item in train_view_c.columns]\n",
    "    train_base = pd.concat([train_base, train_view_c], axis=1)\n",
    "\n",
    "    #     train_view_cn1 = train_view.query('ntimes==1').groupby('cust_wid').agg(view_agg_func).reindex(train_idx).reset_index(drop=True)\n",
    "    #     train_view_cn1.columns = [f'vie_d_{item[0]}_{item[1]}' if item[0] not in ['cust_wid'] else item[0] for item in train_view_cn1.columns]\n",
    "\n",
    "    #     train_view_cn0 = train_view.query('ntimes==0').groupby('cust_wid').agg(view_agg_func).reindex(train_idx).reset_index(drop=True)\n",
    "    #     train_view_cn0.columns = [f'vie_d_{item[0]}_{item[1]}' if item[0] not in ['cust_wid'] else item[0] for item in train_view_cn0.columns]\n",
    "\n",
    "    #     train_view_c = train_view_cn1-train_view_cn0\n",
    "    #     train_base = pd.concat([train_base, train_view_c], axis=1)\n",
    "\n",
    "    trx_agg_func = {\n",
    "        'day':['mean', 'min', 'max', 'std', np.ptp, 'nunique'],\n",
    "        'trx_cd':['count', 'nunique'], \n",
    "        'trx_tm_diff':['mean', 'min', 'max', 'std', 'median', 'sum'], \n",
    "        'daytime':['mean', 'min', 'max', 'std', np.ptp], \n",
    "        'trx_amt':['mean', 'min', 'max', 'std', 'median', 'sum', np.ptp, 'last'],\n",
    "        'trx_enc': ['mean', 'min', 'max', 'std', 'median', 'sum', np.ptp, 'last'],\n",
    "        'day_diff': ['min'],\n",
    "    }\n",
    "    train_trx_c = train_trx.groupby('cust_wid').agg(trx_agg_func).reindex(train_idx).reset_index(drop=True)\n",
    "    train_trx_c.columns = [f'trx_{item[0]}_{item[1]}' if item[0] not in ['cust_wid'] else item[0] for item in train_trx_c.columns]\n",
    "    train_base = pd.concat([train_base, train_trx_c], axis=1)\n",
    "\n",
    "    #     train_trx_c = train_trx.query('flag==1').groupby('cust_wid').agg(trx_agg_func).reindex(train_idx).reset_index(drop=True)\n",
    "    #     train_trx_c.columns = [f'trx_1_{item[0]}_{item[1]}' if item[0] not in ['cust_wid'] else item[0] for item in train_trx_c.columns]\n",
    "    #     train_base = pd.concat([train_base, train_trx_c], axis=1)\n",
    "\n",
    "    #     train_trx_c = train_trx.query('flag==0').groupby('cust_wid').agg(trx_agg_func).reindex(train_idx).reset_index(drop=True)\n",
    "    #     train_trx_c.columns = [f'trx_0_{item[0]}_{item[1]}' if item[0] not in ['cust_wid'] else item[0] for item in train_trx_c.columns]\n",
    "    #     train_base = pd.concat([train_base, train_trx_c], axis=1)\n",
    "\n",
    "    train_view['group'] = (train_view['acs_tm_diff']>5*60).cumsum()\n",
    "    train_view['group'] -= train_view['cust_wid'].map(train_view.groupby('cust_wid').agg({'group':'min'}).to_dict()['group'])\n",
    "    train_reg_base = pd.DataFrame()\n",
    "\n",
    "    train_view_group = train_view.groupby(['cust_wid', 'group']).agg({'page_enc': ['mean', 'min', 'max', 'std'], 'page_id':['count', 'nunique'], 'daytime':['mean',]}).reset_index()\n",
    "    train_view_group.columns = [f'{item[0]}_{item[1]}' if item[0] not in ['cust_wid', 'group'] else item[0] for item in train_view_group.columns]\n",
    "    train_view_group = train_view_group.groupby(['cust_wid']).agg({\n",
    "        'group': ['max'],\n",
    "        'page_enc_mean': ['mean', 'min', 'max', 'std'],\n",
    "        'page_enc_min': ['mean', 'min', 'max', 'std'],\n",
    "        'page_enc_max': ['mean', 'min', 'max', 'std'],\n",
    "        'page_enc_std': ['mean', 'min', 'max', 'std'],\n",
    "        'page_id_count': ['mean', 'min', 'max', 'std'],\n",
    "        'page_id_nunique': ['mean', 'min', 'max', 'std'],\n",
    "        'daytime_mean': ['mean', 'min', 'max', 'std'],\n",
    "    }).reindex(train_idx).reset_index(drop=True)\n",
    "    train_view_group.columns = [f'vie_gop_{item[0]}_{item[1]}' if item[0] not in ['cust_wid'] else item[0] for item in train_view_group.columns]\n",
    "    train_reg_base = pd.concat([train_reg_base,train_view_group], axis=1)\n",
    "    \n",
    "    \n",
    "    train_idx = pd.MultiIndex.from_product([train_base['cust_wid'], range(14)], names=['cust_wid', 'day'])\n",
    "    train_view_cust = train_view.groupby(['cust_wid', 'day'])['page_id'].agg(['count', 'nunique']).reset_index()\n",
    "    train_trx_cust = train_trx.groupby(['cust_wid', 'day'])[['trx_cd', 'trx_amt']].agg({'trx_cd':['count', 'nunique'], 'trx_amt':['min', 'max', 'mean', 'std']}).reset_index()\n",
    "    train_trx_cust.columns = [f'{item[0]}_{item[1]}' if item[0] in ['trx_cd', 'trx_amt'] else item[0] for item in train_trx_cust.columns]\n",
    "\n",
    "    train_view_cust = train_view_cust.set_index(['cust_wid','day']).reindex(train_idx).reset_index().sort_values(['cust_wid','day']).reset_index(drop=True)\n",
    "    train_trx_cust = train_trx_cust.set_index(['cust_wid','day']).reindex(train_idx).reset_index().sort_values(['cust_wid','day']).reset_index(drop=True)\n",
    "\n",
    "    train_view_cust = train_view_cust[[item for item in train_view_cust.columns if item not in ['cust_wid','day']]]\n",
    "    train_view_cust_cols = train_view_cust.columns\n",
    "    train_view_cust = train_view_cust.values.reshape(train_base['cust_wid'].shape[0], 14*len(train_view_cust_cols))\n",
    "    train_view_cust = pd.DataFrame(train_view_cust, columns=[f\"view_cust_{item}_{day}\" for day in range(14) for item in train_view_cust_cols])\n",
    "\n",
    "    train_trx_cust = train_trx_cust[[item for item in train_trx_cust.columns if item not in ['cust_wid','day']]]\n",
    "    train_trx_cust_cols = train_trx_cust.columns\n",
    "    train_trx_cust = train_trx_cust.values.reshape(train_base['cust_wid'].shape[0], 14*len(train_trx_cust_cols))\n",
    "    train_trx_cust = pd.DataFrame(train_trx_cust, columns=[f\"trx_cust_{item}_{day}\" for day in range(14) for item in train_trx_cust_cols])\n",
    "    train_reg_base = pd.concat([train_reg_base, train_view_cust, train_trx_cust], axis=1)\n",
    "\n",
    "    return train_base, train_reg_base"
   ]
  },
  {
   "cell_type": "code",
   "execution_count": 8,
   "id": "eb7b2792-0a9f-438f-b30c-08514eade7aa",
   "metadata": {},
   "outputs": [
    {
     "name": "stdout",
     "output_type": "stream",
     "text": [
      "27.0 -3.0\n",
      "27.0 -3.0\n"
     ]
    }
   ],
   "source": [
    "train_base, train_reg_base = get_data(data_type='train')\n",
    "# testA_base, testA_reg_base = get_data(data_type='testa')\n",
    "testB_base, testB_reg_base = get_data(data_type='testb')"
   ]
  },
  {
   "cell_type": "code",
   "execution_count": 9,
   "id": "3c219a90-9f8d-44b9-9c43-bb8887645b6d",
   "metadata": {},
   "outputs": [],
   "source": [
    "train_weight = load_obj('model/prob')['prob']"
   ]
  },
  {
   "cell_type": "code",
   "execution_count": 10,
   "id": "e5183bb4-493e-433b-8430-fd37d3784801",
   "metadata": {},
   "outputs": [
    {
     "data": {
      "text/plain": [
       "<matplotlib.legend.Legend at 0x7f06c906d340>"
      ]
     },
     "execution_count": 10,
     "metadata": {},
     "output_type": "execute_result"
    },
    {
     "data": {
      "image/png": "[encoded data removed]",
      "text/plain": [
       "<Figure size 640x480 with 1 Axes>"
      ]
     },
     "metadata": {},
     "output_type": "display_data"
    }
   ],
   "source": [
    "idx = train_base['label']==0\n",
    "bins = np.linspace(train_weight.min(), train_weight.max(), 100)\n",
    "plt.hist(train_weight[idx], bins=bins, density=True, alpha=0.5, label='0')\n",
    "plt.hist(train_weight[~idx], bins=bins, density=True, alpha=0.5, label='1')\n",
    "plt.legend()"
   ]
  },
  {
   "cell_type": "code",
   "execution_count": 11,
   "id": "cc6fa778-0d60-4476-b439-59ef77cf8c14",
   "metadata": {},
   "outputs": [],
   "source": [
    "not_use_cols = [\n",
    "    'trx_trx_tm_diff_sum', 'trx_daytime_min', 'trx_trx_tm_diff_max', 'trx_trx_tm_diff_std','trx_day_diff_min', \n",
    "    'vie_day_std', 'vie_day_mean', 'vie_day_diff_min', 'trx_daytime_ptp',\n",
    "    'vie_acs_tm_diff_sum', 'trx_trx_tm_diff_mean', 'trx_day_std'\n",
    "]\n",
    "train_base = train_base.drop(columns=not_use_cols)\n",
    "testB_base = testB_base.drop(columns=not_use_cols)\n"
   ]
  },
  {
   "cell_type": "code",
   "execution_count": 12,
   "id": "bf6c9767-428a-4a5d-9a56-c964251ec209",
   "metadata": {},
   "outputs": [
    {
     "name": "stdout",
     "output_type": "stream",
     "text": [
      "63\n"
     ]
    }
   ],
   "source": [
    "FEATS = [item for item in train_base.columns if item not in ['cust_wid', 'label']]\n",
    "TARGET_COL = 'label'\n",
    "print(len(FEATS))"
   ]
  },
  {
   "cell_type": "code",
   "execution_count": 13,
   "id": "cd91e96e-f5d5-4d73-a609-08e6d81e9e79",
   "metadata": {},
   "outputs": [
    {
     "name": "stdout",
     "output_type": "stream",
     "text": [
      "['age', 'gdr_cd', 'cty_cd', 'vie_day_min', 'vie_day_max', 'vie_day_ptp', 'vie_day_nunique', 'vie_page_id_count', 'vie_page_id_nunique', 'vie_acs_tm_diff_mean', 'vie_acs_tm_diff_min', 'vie_acs_tm_diff_max', 'vie_acs_tm_diff_std', 'vie_acs_tm_diff_median', 'vie_daytime_mean', 'vie_daytime_min', 'vie_daytime_max', 'vie_daytime_std', 'vie_daytime_ptp', 'vie_page_enc_mean', 'vie_page_enc_min', 'vie_page_enc_max', 'vie_page_enc_std', 'vie_page_enc_median', 'vie_page_enc_sum', 'vie_page_enc_ptp', 'vie_page_enc_sem', 'vie_page_enc_mad', 'vie_page_enc_skew', 'vie_page_enc_kurt', 'vie_page_enc_q1', 'vie_page_enc_q2', 'vie_page_enc_q3', 'vie_page_enc_q4', 'vie_page_enc_last', 'trx_day_mean', 'trx_day_min', 'trx_day_max', 'trx_day_ptp', 'trx_day_nunique', 'trx_trx_cd_count', 'trx_trx_cd_nunique', 'trx_trx_tm_diff_min', 'trx_trx_tm_diff_median', 'trx_daytime_mean', 'trx_daytime_max', 'trx_daytime_std', 'trx_trx_amt_mean', 'trx_trx_amt_min', 'trx_trx_amt_max', 'trx_trx_amt_std', 'trx_trx_amt_median', 'trx_trx_amt_sum', 'trx_trx_amt_ptp', 'trx_trx_amt_last', 'trx_trx_enc_mean', 'trx_trx_enc_min', 'trx_trx_enc_max', 'trx_trx_enc_std', 'trx_trx_enc_median', 'trx_trx_enc_sum', 'trx_trx_enc_ptp', 'trx_trx_enc_last']\n"
     ]
    }
   ],
   "source": [
    "print(FEATS)"
   ]
  },
  {
   "cell_type": "code",
   "execution_count": 16,
   "id": "406f13d0-58f8-4a95-8534-a142d161efe6",
   "metadata": {
    "tags": []
   },
   "outputs": [],
   "source": [
    "class cv_model():\n",
    "    def __init__(self, task_name='lgb', nfold=5, seed=SEED, save_path=MODEL_PAHT):\n",
    "        self.nfold = nfold\n",
    "        self.seed = seed\n",
    "        self.save_path = save_path\n",
    "        self.models = []\n",
    "        self.task_name = task_name\n",
    "    \n",
    "    def save_model(self):\n",
    "        for i, model in enumerate(self.models):\n",
    "            save_obj(model, os.path.join(self.save_path, f\"{self.task_name}_fold_{i}\"))\n",
    "    \n",
    "    def load_model(self):\n",
    "        self.models = []\n",
    "        for i in range(self.nfold):\n",
    "            model = load_obj(os.path.join(self.save_path, f\"{self.task_name}_fold_{i}\"))\n",
    "            self.models.append(model)\n",
    "    \n",
    "    def fit(self, params, train_x, train_y, cat_feats, train_weight=None):\n",
    "        kf = StratifiedKFold(n_splits=self.nfold, random_state=self.seed, shuffle=True)\n",
    "        feat_imp = pd.DataFrame({'feat': train_x.columns})\n",
    "        train_oof = np.zeros(len(train_x))\n",
    "        for fold, (trn_idx, val_idx) in enumerate(kf.split(train_x, train_y)):\n",
    "            trn_data = lgb.Dataset(train_x.iloc[trn_idx], label=train_y.iloc[trn_idx], categorical_feature=cat_feats, weight=train_weight.iloc[trn_idx])\n",
    "            val_data = lgb.Dataset(train_x.iloc[val_idx], label=train_y.iloc[val_idx], categorical_feature=cat_feats, weight=train_weight.iloc[val_idx])\n",
    "            model = lgb.train(\n",
    "                params,\n",
    "                trn_data,\n",
    "                num_boost_round=30000,\n",
    "                valid_sets=[trn_data, val_data],\n",
    "                categorical_feature=cat_feats,\n",
    "                callbacks=[\n",
    "                    lgb.early_stopping(100),\n",
    "                    lgb.log_evaluation(100)\n",
    "                ]\n",
    "            )\n",
    "            train_oof[val_idx] = model.predict(train_x.iloc[val_idx], num_iteration=model.best_iteration)\n",
    "            self.models.append(model)\n",
    "            feat_imp[f'fold_{fold}'] = feat_imp['feat'].map(dict(zip(model.feature_name(), model.feature_importance())))\n",
    "        return train_oof, feat_imp\n",
    "    def predict(self, test_x):\n",
    "        test_pred = np.zeros(len(test_x))\n",
    "        for i, model in enumerate(self.models):\n",
    "            test_pred+=model.predict(test_x, num_iteration=model.best_iteration)/len(self.models)\n",
    "        return test_pred\n",
    "                                                         \n",
    "            \n",
    "            \n"
   ]
  },
  {
   "cell_type": "code",
   "execution_count": null,
   "id": "1c3f2ecc-2145-40f3-a830-8bb722668310",
   "metadata": {},
   "outputs": [],
   "source": []
  },
  {
   "cell_type": "code",
   "execution_count": 63,
   "id": "93ab10ef-3a9f-4570-b7d6-c5d32bbb6f10",
   "metadata": {},
   "outputs": [
    {
     "name": "stdout",
     "output_type": "stream",
     "text": [
      "(100000, 63) (100000,) (50000, 63)\n"
     ]
    },
    {
     "name": "stderr",
     "output_type": "stream",
     "text": [
      "/opt/conda/lib/python3.9/site-packages/lightgbm/basic.py:1780: UserWarning: Overriding the parameters from Reference Dataset.\n",
      "  _log_warning('Overriding the parameters from Reference Dataset.')\n",
      "/opt/conda/lib/python3.9/site-packages/lightgbm/basic.py:1513: UserWarning: categorical_column in param dict is overridden.\n",
      "  _log_warning(f'{cat_alias} in param dict is overridden.')\n"
     ]
    },
    {
     "name": "stdout",
     "output_type": "stream",
     "text": [
      "Training until validation scores don't improve for 100 rounds\n",
      "[100]\ttraining's average_precision: 0.798456\tvalid_1's average_precision: 0.786187\n",
      "[200]\ttraining's average_precision: 0.813641\tvalid_1's average_precision: 0.787528\n",
      "[300]\ttraining's average_precision: 0.826192\tvalid_1's average_precision: 0.787736\n",
      "[400]\ttraining's average_precision: 0.837119\tvalid_1's average_precision: 0.787097\n",
      "Early stopping, best iteration is:\n",
      "[305]\ttraining's average_precision: 0.826765\tvalid_1's average_precision: 0.787986\n"
     ]
    },
    {
     "name": "stderr",
     "output_type": "stream",
     "text": [
      "/opt/conda/lib/python3.9/site-packages/lightgbm/basic.py:1780: UserWarning: Overriding the parameters from Reference Dataset.\n",
      "  _log_warning('Overriding the parameters from Reference Dataset.')\n",
      "/opt/conda/lib/python3.9/site-packages/lightgbm/basic.py:1513: UserWarning: categorical_column in param dict is overridden.\n",
      "  _log_warning(f'{cat_alias} in param dict is overridden.')\n"
     ]
    },
    {
     "name": "stdout",
     "output_type": "stream",
     "text": [
      "Training until validation scores don't improve for 100 rounds\n",
      "[100]\ttraining's average_precision: 0.798526\tvalid_1's average_precision: 0.789615\n",
      "[200]\ttraining's average_precision: 0.813826\tvalid_1's average_precision: 0.789787\n",
      "Early stopping, best iteration is:\n",
      "[130]\ttraining's average_precision: 0.803699\tvalid_1's average_precision: 0.790386\n"
     ]
    },
    {
     "name": "stderr",
     "output_type": "stream",
     "text": [
      "/opt/conda/lib/python3.9/site-packages/lightgbm/basic.py:1780: UserWarning: Overriding the parameters from Reference Dataset.\n",
      "  _log_warning('Overriding the parameters from Reference Dataset.')\n",
      "/opt/conda/lib/python3.9/site-packages/lightgbm/basic.py:1513: UserWarning: categorical_column in param dict is overridden.\n",
      "  _log_warning(f'{cat_alias} in param dict is overridden.')\n"
     ]
    },
    {
     "name": "stdout",
     "output_type": "stream",
     "text": [
      "Training until validation scores don't improve for 100 rounds\n",
      "[100]\ttraining's average_precision: 0.797841\tvalid_1's average_precision: 0.782783\n",
      "[200]\ttraining's average_precision: 0.813414\tvalid_1's average_precision: 0.786395\n",
      "[300]\ttraining's average_precision: 0.825809\tvalid_1's average_precision: 0.787922\n",
      "[400]\ttraining's average_precision: 0.836534\tvalid_1's average_precision: 0.788284\n",
      "Early stopping, best iteration is:\n",
      "[385]\ttraining's average_precision: 0.834946\tvalid_1's average_precision: 0.788595\n"
     ]
    },
    {
     "name": "stderr",
     "output_type": "stream",
     "text": [
      "/opt/conda/lib/python3.9/site-packages/lightgbm/basic.py:1780: UserWarning: Overriding the parameters from Reference Dataset.\n",
      "  _log_warning('Overriding the parameters from Reference Dataset.')\n",
      "/opt/conda/lib/python3.9/site-packages/lightgbm/basic.py:1513: UserWarning: categorical_column in param dict is overridden.\n",
      "  _log_warning(f'{cat_alias} in param dict is overridden.')\n"
     ]
    },
    {
     "name": "stdout",
     "output_type": "stream",
     "text": [
      "Training until validation scores don't improve for 100 rounds\n",
      "[100]\ttraining's average_precision: 0.799382\tvalid_1's average_precision: 0.778766\n",
      "[200]\ttraining's average_precision: 0.814497\tvalid_1's average_precision: 0.780464\n",
      "[300]\ttraining's average_precision: 0.826541\tvalid_1's average_precision: 0.781564\n",
      "[400]\ttraining's average_precision: 0.837153\tvalid_1's average_precision: 0.781333\n",
      "Early stopping, best iteration is:\n",
      "[350]\ttraining's average_precision: 0.831933\tvalid_1's average_precision: 0.7818\n"
     ]
    },
    {
     "name": "stderr",
     "output_type": "stream",
     "text": [
      "/opt/conda/lib/python3.9/site-packages/lightgbm/basic.py:1780: UserWarning: Overriding the parameters from Reference Dataset.\n",
      "  _log_warning('Overriding the parameters from Reference Dataset.')\n",
      "/opt/conda/lib/python3.9/site-packages/lightgbm/basic.py:1513: UserWarning: categorical_column in param dict is overridden.\n",
      "  _log_warning(f'{cat_alias} in param dict is overridden.')\n"
     ]
    },
    {
     "name": "stdout",
     "output_type": "stream",
     "text": [
      "Training until validation scores don't improve for 100 rounds\n",
      "[100]\ttraining's average_precision: 0.800437\tvalid_1's average_precision: 0.761772\n",
      "[200]\ttraining's average_precision: 0.815663\tvalid_1's average_precision: 0.764696\n",
      "[300]\ttraining's average_precision: 0.827591\tvalid_1's average_precision: 0.76575\n",
      "[400]\ttraining's average_precision: 0.838501\tvalid_1's average_precision: 0.76666\n",
      "[500]\ttraining's average_precision: 0.848071\tvalid_1's average_precision: 0.766326\n",
      "Early stopping, best iteration is:\n",
      "[436]\ttraining's average_precision: 0.842167\tvalid_1's average_precision: 0.766823\n"
     ]
    },
    {
     "name": "stderr",
     "output_type": "stream",
     "text": [
      "/opt/conda/lib/python3.9/site-packages/lightgbm/basic.py:1780: UserWarning: Overriding the parameters from Reference Dataset.\n",
      "  _log_warning('Overriding the parameters from Reference Dataset.')\n",
      "/opt/conda/lib/python3.9/site-packages/lightgbm/basic.py:1513: UserWarning: categorical_column in param dict is overridden.\n",
      "  _log_warning(f'{cat_alias} in param dict is overridden.')\n"
     ]
    },
    {
     "name": "stdout",
     "output_type": "stream",
     "text": [
      "Training until validation scores don't improve for 100 rounds\n",
      "[100]\ttraining's average_precision: 0.798626\tvalid_1's average_precision: 0.780996\n",
      "[200]\ttraining's average_precision: 0.814121\tvalid_1's average_precision: 0.785704\n",
      "[300]\ttraining's average_precision: 0.826079\tvalid_1's average_precision: 0.786471\n",
      "[400]\ttraining's average_precision: 0.836912\tvalid_1's average_precision: 0.786022\n",
      "Early stopping, best iteration is:\n",
      "[311]\ttraining's average_precision: 0.827256\tvalid_1's average_precision: 0.786757\n"
     ]
    },
    {
     "name": "stderr",
     "output_type": "stream",
     "text": [
      "/opt/conda/lib/python3.9/site-packages/lightgbm/basic.py:1780: UserWarning: Overriding the parameters from Reference Dataset.\n",
      "  _log_warning('Overriding the parameters from Reference Dataset.')\n",
      "/opt/conda/lib/python3.9/site-packages/lightgbm/basic.py:1513: UserWarning: categorical_column in param dict is overridden.\n",
      "  _log_warning(f'{cat_alias} in param dict is overridden.')\n"
     ]
    },
    {
     "name": "stdout",
     "output_type": "stream",
     "text": [
      "Training until validation scores don't improve for 100 rounds\n",
      "[100]\ttraining's average_precision: 0.797533\tvalid_1's average_precision: 0.794171\n",
      "[200]\ttraining's average_precision: 0.812888\tvalid_1's average_precision: 0.796328\n",
      "[300]\ttraining's average_precision: 0.825232\tvalid_1's average_precision: 0.797193\n",
      "[400]\ttraining's average_precision: 0.835949\tvalid_1's average_precision: 0.797419\n",
      "Early stopping, best iteration is:\n",
      "[318]\ttraining's average_precision: 0.827308\tvalid_1's average_precision: 0.797775\n"
     ]
    },
    {
     "name": "stderr",
     "output_type": "stream",
     "text": [
      "/opt/conda/lib/python3.9/site-packages/lightgbm/basic.py:1780: UserWarning: Overriding the parameters from Reference Dataset.\n",
      "  _log_warning('Overriding the parameters from Reference Dataset.')\n",
      "/opt/conda/lib/python3.9/site-packages/lightgbm/basic.py:1513: UserWarning: categorical_column in param dict is overridden.\n",
      "  _log_warning(f'{cat_alias} in param dict is overridden.')\n"
     ]
    },
    {
     "name": "stdout",
     "output_type": "stream",
     "text": [
      "Training until validation scores don't improve for 100 rounds\n",
      "[100]\ttraining's average_precision: 0.798264\tvalid_1's average_precision: 0.783408\n",
      "[200]\ttraining's average_precision: 0.813898\tvalid_1's average_precision: 0.78666\n",
      "[300]\ttraining's average_precision: 0.825953\tvalid_1's average_precision: 0.787187\n",
      "[400]\ttraining's average_precision: 0.836739\tvalid_1's average_precision: 0.78764\n",
      "[500]\ttraining's average_precision: 0.84623\tvalid_1's average_precision: 0.787275\n",
      "Early stopping, best iteration is:\n",
      "[419]\ttraining's average_precision: 0.838724\tvalid_1's average_precision: 0.787803\n"
     ]
    },
    {
     "name": "stderr",
     "output_type": "stream",
     "text": [
      "/opt/conda/lib/python3.9/site-packages/lightgbm/basic.py:1780: UserWarning: Overriding the parameters from Reference Dataset.\n",
      "  _log_warning('Overriding the parameters from Reference Dataset.')\n",
      "/opt/conda/lib/python3.9/site-packages/lightgbm/basic.py:1513: UserWarning: categorical_column in param dict is overridden.\n",
      "  _log_warning(f'{cat_alias} in param dict is overridden.')\n"
     ]
    },
    {
     "name": "stdout",
     "output_type": "stream",
     "text": [
      "Training until validation scores don't improve for 100 rounds\n",
      "[100]\ttraining's average_precision: 0.797607\tvalid_1's average_precision: 0.78796\n",
      "[200]\ttraining's average_precision: 0.813079\tvalid_1's average_precision: 0.789232\n",
      "Early stopping, best iteration is:\n",
      "[199]\ttraining's average_precision: 0.812933\tvalid_1's average_precision: 0.78932\n"
     ]
    },
    {
     "name": "stderr",
     "output_type": "stream",
     "text": [
      "/opt/conda/lib/python3.9/site-packages/lightgbm/basic.py:1780: UserWarning: Overriding the parameters from Reference Dataset.\n",
      "  _log_warning('Overriding the parameters from Reference Dataset.')\n",
      "/opt/conda/lib/python3.9/site-packages/lightgbm/basic.py:1513: UserWarning: categorical_column in param dict is overridden.\n",
      "  _log_warning(f'{cat_alias} in param dict is overridden.')\n"
     ]
    },
    {
     "name": "stdout",
     "output_type": "stream",
     "text": [
      "Training until validation scores don't improve for 100 rounds\n",
      "[100]\ttraining's average_precision: 0.797858\tvalid_1's average_precision: 0.793048\n",
      "[200]\ttraining's average_precision: 0.813169\tvalid_1's average_precision: 0.794141\n",
      "Early stopping, best iteration is:\n",
      "[191]\ttraining's average_precision: 0.811917\tvalid_1's average_precision: 0.794257\n"
     ]
    }
   ],
   "source": [
    "cla_params = {\n",
    "    'objective': 'binary', # multiclass multiclassova\n",
    "    'metric': 'average_precision', #  average_precision auc map\n",
    "    'boosting_type': 'gbdt',\n",
    "    'num_leaves': 16,\n",
    "    'min_data_in_leaf': 50,\n",
    "    'lambda_l1':1,\n",
    "    'lambda_l2':1,\n",
    "    'learning_rate': 0.05,\n",
    "    'feature_fraction': 0.9,\n",
    "    'bagging_fraction': 0.8,\n",
    "    'bagging_freq': 5,\n",
    "    'verbose': -1,\n",
    "    'feature_fraction_seed':SEED,\n",
    "    'bagging_seed':SEED,\n",
    "    'seed': SEED,\n",
    "}\n",
    "FEATS = [item for item in train_base.columns if item not in ['cust_wid', 'label']]\n",
    "train_cla_x = train_base[FEATS]\n",
    "train_cla_y = (train_base[TARGET_COL]>0).astype('int')\n",
    "testB_cla_x = testB_base[FEATS]\n",
    "print(train_cla_x.shape, train_cla_y.shape, testB_cla_x.shape)\n",
    "\n",
    "cla_model = cv_model(task_name='cla_lgb', nfold=10)\n",
    "train_cla_oof, feat_cla_imp = cla_model.fit(cla_params, train_cla_x, train_cla_y, cat_feats=['gdr_cd','cty_cd'], train_weight=train_weight)\n",
    "cla_model.save_model()\n",
    "cla_model.load_model()\n",
    "test_cla_pred = cla_model.predict(testB_cla_x)\n"
   ]
  },
  {
   "cell_type": "code",
   "execution_count": 65,
   "id": "220c6262-8e3e-4a5c-9011-d1dcabb53b6d",
   "metadata": {},
   "outputs": [
    {
     "name": "stdout",
     "output_type": "stream",
     "text": [
      "以精度为0.1在[0.1,0.8]范围内搜索F1最佳阈值>>最佳阈值:=0.2->F1=0.751822\n",
      "以精度为0.02在[0.1,0.28]范围内搜索F1最佳阈值>>最佳阈值:=0.14->F1=0.76027961\n",
      "以精度为0.004在[0.09,0.18600000000000008]范围内搜索F1最佳阈值>>最佳阈值:=0.14200000000000004->F1=0.76005433\n"
     ]
    },
    {
     "data": {
      "text/plain": [
       "(0.14200000000000004, 0.76005433, 0.60726)"
      ]
     },
     "execution_count": 65,
     "metadata": {},
     "output_type": "execute_result"
    }
   ],
   "source": [
    "thr_optimal, best_fscore = utils.get_optimal_Fscore(train_cla_y, train_cla_oof, train_weight)\n",
    "thr_optimal, best_fscore, (train_cla_oof>thr_optimal).sum() / train_cla_oof.shape[0]"
   ]
  },
  {
   "cell_type": "code",
   "execution_count": 66,
   "id": "08660f43-9f0a-4cd5-be8d-a3d2ed1d88d6",
   "metadata": {},
   "outputs": [],
   "source": [
    "thr_optimal = thr_optimal*0.8"
   ]
  },
  {
   "cell_type": "code",
   "execution_count": 67,
   "id": "c830bc03-277e-4412-b955-34625e09cdc0",
   "metadata": {},
   "outputs": [
    {
     "data": {
      "text/plain": [
       "0.7557569980398681"
      ]
     },
     "execution_count": 67,
     "metadata": {},
     "output_type": "execute_result"
    }
   ],
   "source": [
    "fbeta_score(train_cla_y, train_cla_oof>thr_optimal, beta=2, sample_weight=train_weight)"
   ]
  },
  {
   "cell_type": "code",
   "execution_count": 68,
   "id": "cfc2f309-a2fa-44b1-ad83-68a4bbf7e537",
   "metadata": {},
   "outputs": [
    {
     "data": {
      "text/plain": [
       "0.11360000000000003"
      ]
     },
     "execution_count": 68,
     "metadata": {},
     "output_type": "execute_result"
    }
   ],
   "source": [
    "thr_optimal"
   ]
  },
  {
   "cell_type": "code",
   "execution_count": null,
   "id": "fa8aa414-6403-437f-ad44-7410b58307be",
   "metadata": {},
   "outputs": [],
   "source": []
  },
  {
   "cell_type": "code",
   "execution_count": 69,
   "id": "c8ca300f-6d77-47c7-b03e-45401a99cbdd",
   "metadata": {},
   "outputs": [
    {
     "data": {
      "text/plain": [
       "<matplotlib.legend.Legend at 0x7f06b4f6b550>"
      ]
     },
     "execution_count": 69,
     "metadata": {},
     "output_type": "execute_result"
    },
    {
     "data": {
      "image/png": "[encoded data removed]",
      "text/plain": [
       "<Figure size 1000x450 with 2 Axes>"
      ]
     },
     "metadata": {},
     "output_type": "display_data"
    }
   ],
   "source": [
    "plt.figure(figsize=(10,4.5))\n",
    "plt.subplot(121)\n",
    "plt.hist(train_cla_oof, bins=100, alpha=0.5, label='train 1', density=True)\n",
    "plt.hist(test_cla_pred, bins=100, alpha=0.5, label='testB', density=True)\n",
    "plt.vlines(thr_optimal, 0, 6, color='r')\n",
    "plt.legend()\n",
    "\n",
    "plt.subplot(122)\n",
    "idx = train_cla_y==1\n",
    "plt.hist(train_cla_oof[idx], bins=100, alpha=0.5, label='train 1', density=True)\n",
    "plt.hist(train_cla_oof[~idx], bins=100, alpha=0.5, label='train 0', density=True)\n",
    "plt.legend()"
   ]
  },
  {
   "cell_type": "code",
   "execution_count": 70,
   "id": "c3176255-f1ae-4602-a909-0955a10ddfd2",
   "metadata": {},
   "outputs": [],
   "source": [
    "feat_cla_imp['mean'] = feat_cla_imp[[f\"fold_{fold}\" for fold in range(cla_model.nfold)]].mean(axis=1)\n",
    "feat_cla_imp = feat_cla_imp.sort_values(by=\"mean\", ascending=False)\n",
    "feat_cla_imp.to_csv('model/feats_cla_imp.csv', index=False)"
   ]
  },
  {
   "cell_type": "code",
   "execution_count": 71,
   "id": "a8328d7f-2b9d-4489-922a-ace44ebee2ef",
   "metadata": {},
   "outputs": [
    {
     "name": "stderr",
     "output_type": "stream",
     "text": [
      "/opt/conda/lib/python3.9/site-packages/scipy/stats/_stats_py.py:5218: RuntimeWarning: overflow encountered in long_scalars\n",
      "  (2 * xtie * ytie) / m + x0 * y0 / (9 * m * (size - 2)))\n"
     ]
    }
   ],
   "source": [
    "corr_data = all_corr_data(train_cla_x,train_cla_y)\n",
    "corr_data.to_csv('model/corr_cla.csv')"
   ]
  },
  {
   "cell_type": "code",
   "execution_count": 72,
   "id": "bf5fe9ce-2aca-4422-bb88-cd7a68a501ac",
   "metadata": {},
   "outputs": [],
   "source": [
    "test_cla_pred = (test_cla_pred>=thr_optimal).astype('int')\n",
    "train_cla_oof = (train_cla_oof>=thr_optimal).astype('int')"
   ]
  },
  {
   "cell_type": "code",
   "execution_count": null,
   "id": "69be0baa",
   "metadata": {},
   "outputs": [],
   "source": []
  },
  {
   "cell_type": "code",
   "execution_count": 78,
   "id": "cb240394-cfbb-41a0-b8a5-d0bd7b15e798",
   "metadata": {},
   "outputs": [],
   "source": [
    "test_pred = pd.DataFrame({'cust_wid': testB_base['cust_wid'], 'label': test_cla_pred})\n",
    "train_oof = pd.DataFrame({'cust_wid': train_base['cust_wid'], 'pred': train_cla_oof, 'true': train_base['label']})\n",
    "\n",
    "idx = test_pred.label == 1\n",
    "test_pred.loc[idx, 'label'] = 3\n",
    "\n",
    "# idx = train_oof.pred == 1\n",
    "# train_oof.loc[idx, 'pred'] = train_reg_oof"
   ]
  },
  {
   "cell_type": "code",
   "execution_count": 79,
   "id": "88b53bc2-754b-484a-a175-146ea26bc36c",
   "metadata": {},
   "outputs": [
    {
     "data": {
      "text/plain": [
       "(0.555756998039868, 0.7557569980398681, 1)"
      ]
     },
     "execution_count": 79,
     "metadata": {},
     "output_type": "execute_result"
    }
   ],
   "source": [
    "score1 = fbeta_score((train_oof['true']>0).astype('int'), (train_oof['pred']>0).astype('int'), beta=2, sample_weight=train_weight)\n",
    "# score2 = mean_absolute_percentage_error(train_reg_y, train_reg_oof)\n",
    "score2 = 1\n",
    "score = score1-0.2*score2\n",
    "score, score1, score2\n"
   ]
  },
  {
   "cell_type": "code",
   "execution_count": null,
   "id": "0a36030c-f3ec-4a32-83d8-a08c527f3c70",
   "metadata": {},
   "outputs": [],
   "source": []
  },
  {
   "cell_type": "code",
   "execution_count": null,
   "id": "7c2b7892-5679-430f-8707-febc15a6adb3",
   "metadata": {},
   "outputs": [],
   "source": []
  },
  {
   "cell_type": "code",
   "execution_count": null,
   "id": "cee7d86d-79fa-496b-b062-910749b44ba4",
   "metadata": {},
   "outputs": [],
   "source": []
  },
  {
   "cell_type": "code",
   "execution_count": null,
   "id": "e1ca0719-f36f-466d-93a2-78f5b5389727",
   "metadata": {},
   "outputs": [],
   "source": []
  },
  {
   "cell_type": "code",
   "execution_count": null,
   "id": "89848663-2bc8-4ae2-91f5-195ce8c19183",
   "metadata": {},
   "outputs": [],
   "source": []
  },
  {
   "cell_type": "code",
   "execution_count": 80,
   "id": "8325edec-f07d-40c0-833f-485fedb0a700",
   "metadata": {},
   "outputs": [
    {
     "data": {
      "text/plain": [
       "3    27599\n",
       "0    22401\n",
       "Name: label, dtype: int64"
      ]
     },
     "execution_count": 80,
     "metadata": {},
     "output_type": "execute_result"
    }
   ],
   "source": [
    "test_pred.label.value_counts()"
   ]
  },
  {
   "cell_type": "code",
   "execution_count": 81,
   "id": "d4211a69-8474-4ddc-9a10-0fd646f3b774",
   "metadata": {},
   "outputs": [],
   "source": [
    "test_pred.to_csv('output.csv', index=False)"
   ]
  },
  {
   "cell_type": "code",
   "execution_count": null,
   "id": "fc328337-f50e-463a-a4c2-21283b1a3aae",
   "metadata": {},
   "outputs": [],
   "source": []
  },
  {
   "cell_type": "code",
   "execution_count": null,
   "id": "f5e2fd7e-88cf-4565-9ed7-39d353465d5e",
   "metadata": {},
   "outputs": [],
   "source": []
  },
  {
   "cell_type": "code",
   "execution_count": null,
   "id": "0583d955-d70a-4ed2-97ed-18b0bae94400",
   "metadata": {},
   "outputs": [],
   "source": []
  }
 ],
 "metadata": {
  "kernelspec": {
   "display_name": "Python 3.8.8 ('base')",
   "language": "python",
   "name": "python3"
  },
  "language_info": {
   "codemirror_mode": {
    "name": "ipython",
    "version": 3
   },
   "file_extension": ".py",
   "mimetype": "text/x-python",
   "name": "python",
   "nbconvert_exporter": "python",
   "pygments_lexer": "ipython3",
   "version": "3.8.8"
  },
  "vscode": {
   "interpreter": {
    "hash": "688e27ea2201f24f036ee87480d7d8d79d04e5ade5319763c122c3e5a8095f9a"
   }
  }
 },
 "nbformat": 4,
 "nbformat_minor": 5
}
